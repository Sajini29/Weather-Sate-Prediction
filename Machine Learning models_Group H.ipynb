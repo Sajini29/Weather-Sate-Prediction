{
 "cells": [
  {
   "cell_type": "raw",
   "metadata": {
    "id": "T_1Isb_mqWlb"
   },
   "source": [
    "from google.colab import drive\n",
    "drive.mount('/content/drive')"
   ]
  },
  {
   "cell_type": "code",
   "execution_count": 2,
   "metadata": {
    "id": "IMJKzReqTzm1"
   },
   "outputs": [],
   "source": [
    "# Importing libraries and packages\n",
    "\n",
    "import pandas as pd\n",
    "import numpy as np\n",
    "import matplotlib.pyplot as plt\n",
    "import seaborn as sns\n",
    "import missingno as msno\n",
    "\n",
    "pd.pandas.set_option(\"display.max_columns\", None, \"display.max_rows\", None)"
   ]
  },
  {
   "cell_type": "code",
   "execution_count": 3,
   "metadata": {
    "id": "PvQRMsqbT2gR"
   },
   "outputs": [],
   "source": [
    "#Loading dataset\n",
    "#df = pd.read_csv(\"/content/drive/MyDrive/Weather Forecasting/cleaned_weather.csv\")\n",
    "df = pd.read_csv(\"cleaned_weather.csv\")"
   ]
  },
  {
   "cell_type": "code",
   "execution_count": 3,
   "metadata": {
    "colab": {
     "base_uri": "https://localhost:8080/",
     "height": 313
    },
    "id": "IsW45DWpT_sq",
    "outputId": "a5fea635-5c2d-42f8-8d9f-f0fd4378b511"
   },
   "outputs": [
    {
     "data": {
      "text/html": [
       "<div>\n",
       "<style scoped>\n",
       "    .dataframe tbody tr th:only-of-type {\n",
       "        vertical-align: middle;\n",
       "    }\n",
       "\n",
       "    .dataframe tbody tr th {\n",
       "        vertical-align: top;\n",
       "    }\n",
       "\n",
       "    .dataframe thead th {\n",
       "        text-align: right;\n",
       "    }\n",
       "</style>\n",
       "<table border=\"1\" class=\"dataframe\">\n",
       "  <thead>\n",
       "    <tr style=\"text-align: right;\">\n",
       "      <th></th>\n",
       "      <th>time</th>\n",
       "      <th>weathercode</th>\n",
       "      <th>temperature_2m_max</th>\n",
       "      <th>temperature_2m_min</th>\n",
       "      <th>temperature_2m_mean</th>\n",
       "      <th>shortwave_radiation_sum</th>\n",
       "      <th>rain_sum</th>\n",
       "      <th>precipitation_hours</th>\n",
       "      <th>windspeed_10m_max</th>\n",
       "      <th>windgusts_10m_max</th>\n",
       "      <th>winddirection_10m_dominant</th>\n",
       "      <th>et0_fao_evapotranspiration</th>\n",
       "      <th>city</th>\n",
       "    </tr>\n",
       "  </thead>\n",
       "  <tbody>\n",
       "    <tr>\n",
       "      <th>0</th>\n",
       "      <td>2010-01-01</td>\n",
       "      <td>2</td>\n",
       "      <td>30.0</td>\n",
       "      <td>22.7</td>\n",
       "      <td>26.1</td>\n",
       "      <td>20.92</td>\n",
       "      <td>0.0</td>\n",
       "      <td>0.0</td>\n",
       "      <td>11.7</td>\n",
       "      <td>27.4</td>\n",
       "      <td>20</td>\n",
       "      <td>4.58</td>\n",
       "      <td>Colombo</td>\n",
       "    </tr>\n",
       "    <tr>\n",
       "      <th>1</th>\n",
       "      <td>2010-01-02</td>\n",
       "      <td>51</td>\n",
       "      <td>29.9</td>\n",
       "      <td>23.5</td>\n",
       "      <td>26.2</td>\n",
       "      <td>17.71</td>\n",
       "      <td>0.1</td>\n",
       "      <td>1.0</td>\n",
       "      <td>13.0</td>\n",
       "      <td>27.0</td>\n",
       "      <td>24</td>\n",
       "      <td>3.84</td>\n",
       "      <td>Colombo</td>\n",
       "    </tr>\n",
       "    <tr>\n",
       "      <th>2</th>\n",
       "      <td>2010-01-03</td>\n",
       "      <td>51</td>\n",
       "      <td>29.5</td>\n",
       "      <td>23.2</td>\n",
       "      <td>26.0</td>\n",
       "      <td>17.76</td>\n",
       "      <td>0.6</td>\n",
       "      <td>3.0</td>\n",
       "      <td>12.3</td>\n",
       "      <td>27.4</td>\n",
       "      <td>16</td>\n",
       "      <td>3.65</td>\n",
       "      <td>Colombo</td>\n",
       "    </tr>\n",
       "    <tr>\n",
       "      <th>3</th>\n",
       "      <td>2010-01-04</td>\n",
       "      <td>2</td>\n",
       "      <td>28.9</td>\n",
       "      <td>21.9</td>\n",
       "      <td>25.3</td>\n",
       "      <td>16.50</td>\n",
       "      <td>0.0</td>\n",
       "      <td>0.0</td>\n",
       "      <td>17.0</td>\n",
       "      <td>34.6</td>\n",
       "      <td>356</td>\n",
       "      <td>3.79</td>\n",
       "      <td>Colombo</td>\n",
       "    </tr>\n",
       "    <tr>\n",
       "      <th>4</th>\n",
       "      <td>2010-01-05</td>\n",
       "      <td>1</td>\n",
       "      <td>28.1</td>\n",
       "      <td>21.3</td>\n",
       "      <td>24.5</td>\n",
       "      <td>23.61</td>\n",
       "      <td>0.0</td>\n",
       "      <td>0.0</td>\n",
       "      <td>18.7</td>\n",
       "      <td>37.1</td>\n",
       "      <td>355</td>\n",
       "      <td>4.97</td>\n",
       "      <td>Colombo</td>\n",
       "    </tr>\n",
       "  </tbody>\n",
       "</table>\n",
       "</div>"
      ],
      "text/plain": [
       "         time  weathercode  temperature_2m_max  temperature_2m_min  \\\n",
       "0  2010-01-01            2                30.0                22.7   \n",
       "1  2010-01-02           51                29.9                23.5   \n",
       "2  2010-01-03           51                29.5                23.2   \n",
       "3  2010-01-04            2                28.9                21.9   \n",
       "4  2010-01-05            1                28.1                21.3   \n",
       "\n",
       "   temperature_2m_mean  shortwave_radiation_sum  rain_sum  \\\n",
       "0                 26.1                    20.92       0.0   \n",
       "1                 26.2                    17.71       0.1   \n",
       "2                 26.0                    17.76       0.6   \n",
       "3                 25.3                    16.50       0.0   \n",
       "4                 24.5                    23.61       0.0   \n",
       "\n",
       "   precipitation_hours  windspeed_10m_max  windgusts_10m_max  \\\n",
       "0                  0.0               11.7               27.4   \n",
       "1                  1.0               13.0               27.0   \n",
       "2                  3.0               12.3               27.4   \n",
       "3                  0.0               17.0               34.6   \n",
       "4                  0.0               18.7               37.1   \n",
       "\n",
       "   winddirection_10m_dominant  et0_fao_evapotranspiration     city  \n",
       "0                          20                        4.58  Colombo  \n",
       "1                          24                        3.84  Colombo  \n",
       "2                          16                        3.65  Colombo  \n",
       "3                         356                        3.79  Colombo  \n",
       "4                         355                        4.97  Colombo  "
      ]
     },
     "execution_count": 3,
     "metadata": {},
     "output_type": "execute_result"
    }
   ],
   "source": [
    "df.head()"
   ]
  },
  {
   "cell_type": "code",
   "execution_count": 4,
   "metadata": {
    "colab": {
     "base_uri": "https://localhost:8080/"
    },
    "id": "HEnfloZCVDEO",
    "outputId": "cc72ebb6-e9e0-4b50-f233-60fc47d69f9e"
   },
   "outputs": [
    {
     "data": {
      "text/plain": [
       "(147480, 13)"
      ]
     },
     "execution_count": 4,
     "metadata": {},
     "output_type": "execute_result"
    }
   ],
   "source": [
    "df.shape"
   ]
  },
  {
   "cell_type": "code",
   "execution_count": 5,
   "metadata": {
    "colab": {
     "base_uri": "https://localhost:8080/"
    },
    "id": "uJzOJ3QyVFQK",
    "outputId": "38f87a4e-8e48-4863-a0b1-1d1edd5e0ade"
   },
   "outputs": [
    {
     "data": {
      "text/plain": [
       "time                           object\n",
       "weathercode                     int64\n",
       "temperature_2m_max            float64\n",
       "temperature_2m_min            float64\n",
       "temperature_2m_mean           float64\n",
       "shortwave_radiation_sum       float64\n",
       "rain_sum                      float64\n",
       "precipitation_hours           float64\n",
       "windspeed_10m_max             float64\n",
       "windgusts_10m_max             float64\n",
       "winddirection_10m_dominant      int64\n",
       "et0_fao_evapotranspiration    float64\n",
       "city                           object\n",
       "dtype: object"
      ]
     },
     "execution_count": 5,
     "metadata": {},
     "output_type": "execute_result"
    }
   ],
   "source": [
    "df.dtypes"
   ]
  },
  {
   "cell_type": "code",
   "execution_count": 4,
   "metadata": {
    "colab": {
     "base_uri": "https://localhost:8080/"
    },
    "id": "SOxmcZO7Xq03",
    "outputId": "d05bf213-ca07-47d8-b618-c1e25d889713"
   },
   "outputs": [
    {
     "name": "stdout",
     "output_type": "stream",
     "text": [
      "datetime64[ns]\n",
      "int64\n"
     ]
    }
   ],
   "source": [
    "# Change datatypes\n",
    "\n",
    "# Change datatype of the 'date_column' to datetime\n",
    "df['time'] = pd.to_datetime(df['time'])\n",
    "\n",
    "#df['weathercode'] = df['weathercode'].astype(str)\n",
    "\n",
    "# Print the updated DataFrame\n",
    "print(df['time'].dtypes)\n",
    "print(df['weathercode'].dtypes)"
   ]
  },
  {
   "cell_type": "markdown",
   "metadata": {
    "id": "mYCy0NqrdA2x"
   },
   "source": [
    "Creating a month variable"
   ]
  },
  {
   "cell_type": "code",
   "execution_count": 5,
   "metadata": {
    "colab": {
     "base_uri": "https://localhost:8080/"
    },
    "id": "H3NQzXnUclwi",
    "outputId": "f181c5b2-1d8d-4cda-ac96-4cfd070f2590"
   },
   "outputs": [
    {
     "name": "stdout",
     "output_type": "stream",
     "text": [
      "        time  weathercode  temperature_2m_max  temperature_2m_min  \\\n",
      "0 2010-01-01            2                30.0                22.7   \n",
      "1 2010-01-02           51                29.9                23.5   \n",
      "2 2010-01-03           51                29.5                23.2   \n",
      "3 2010-01-04            2                28.9                21.9   \n",
      "4 2010-01-05            1                28.1                21.3   \n",
      "\n",
      "   temperature_2m_mean  shortwave_radiation_sum  rain_sum  \\\n",
      "0                 26.1                    20.92       0.0   \n",
      "1                 26.2                    17.71       0.1   \n",
      "2                 26.0                    17.76       0.6   \n",
      "3                 25.3                    16.50       0.0   \n",
      "4                 24.5                    23.61       0.0   \n",
      "\n",
      "   precipitation_hours  windspeed_10m_max  windgusts_10m_max  \\\n",
      "0                  0.0               11.7               27.4   \n",
      "1                  1.0               13.0               27.0   \n",
      "2                  3.0               12.3               27.4   \n",
      "3                  0.0               17.0               34.6   \n",
      "4                  0.0               18.7               37.1   \n",
      "\n",
      "   winddirection_10m_dominant  et0_fao_evapotranspiration     city  month  \n",
      "0                          20                        4.58  Colombo      1  \n",
      "1                          24                        3.84  Colombo      1  \n",
      "2                          16                        3.65  Colombo      1  \n",
      "3                         356                        3.79  Colombo      1  \n",
      "4                         355                        4.97  Colombo      1  \n"
     ]
    }
   ],
   "source": [
    "# Extract the month and create a new column\n",
    "df['month'] = df['time'].dt.month\n",
    "\n",
    "# Print the DataFrame with the added 'month' column\n",
    "print(df.head())"
   ]
  },
  {
   "cell_type": "code",
   "execution_count": 6,
   "metadata": {
    "colab": {
     "base_uri": "https://localhost:8080/"
    },
    "id": "s9gakLG8c3QP",
    "outputId": "7098d085-0a8b-4969-ee50-dc831cd2263f"
   },
   "outputs": [
    {
     "data": {
      "text/plain": [
       "time                          datetime64[ns]\n",
       "weathercode                            int64\n",
       "temperature_2m_max                   float64\n",
       "temperature_2m_min                   float64\n",
       "temperature_2m_mean                  float64\n",
       "shortwave_radiation_sum              float64\n",
       "rain_sum                             float64\n",
       "precipitation_hours                  float64\n",
       "windspeed_10m_max                    float64\n",
       "windgusts_10m_max                    float64\n",
       "winddirection_10m_dominant             int64\n",
       "et0_fao_evapotranspiration           float64\n",
       "city                                  object\n",
       "month                                  int64\n",
       "dtype: object"
      ]
     },
     "execution_count": 6,
     "metadata": {},
     "output_type": "execute_result"
    }
   ],
   "source": [
    "df.dtypes"
   ]
  },
  {
   "cell_type": "code",
   "execution_count": 6,
   "metadata": {
    "colab": {
     "base_uri": "https://localhost:8080/"
    },
    "id": "E2kjo7_BdEsJ",
    "outputId": "d3e1fa26-8299-464c-8cc1-8c4e429d2d66"
   },
   "outputs": [
    {
     "name": "stdout",
     "output_type": "stream",
     "text": [
      "object\n",
      "1     13020\n",
      "3     13020\n",
      "5     13020\n",
      "4     12600\n",
      "6     12210\n",
      "7     12090\n",
      "8     12090\n",
      "10    12090\n",
      "12    12090\n",
      "2     11850\n",
      "9     11700\n",
      "11    11700\n",
      "Name: month, dtype: int64\n"
     ]
    }
   ],
   "source": [
    "df['month'] = df['month'].astype(str)\n",
    "\n",
    "# Print the updated DataFrame\n",
    "print(df['month'].dtypes)\n",
    "print(df['month'].value_counts())"
   ]
  },
  {
   "cell_type": "code",
   "execution_count": 7,
   "metadata": {
    "id": "UKO_aHHNdUYi"
   },
   "outputs": [],
   "source": [
    "df = df.drop('time', axis = 1)"
   ]
  },
  {
   "cell_type": "code",
   "execution_count": 8,
   "metadata": {},
   "outputs": [],
   "source": [
    "df = df.drop('temperature_2m_mean', axis = 1)"
   ]
  },
  {
   "cell_type": "markdown",
   "metadata": {},
   "source": [
    "## Recoding wind direction"
   ]
  },
  {
   "cell_type": "code",
   "execution_count": 9,
   "metadata": {},
   "outputs": [],
   "source": [
    "# Function to recode wind directions\n",
    "def recode_wind_direction(degrees):\n",
    "    if (337.5 <= degrees < 360) or (0 <= degrees < 22.5):\n",
    "        return \"North\"\n",
    "    elif 22.5 <= degrees < 67.5:\n",
    "        return \"Northeast\"\n",
    "    elif 67.5 <= degrees < 112.5:\n",
    "        return \"East\"\n",
    "    elif 112.5 <= degrees < 157.5:\n",
    "        return \"Southeast\"\n",
    "    elif 157.5 <= degrees < 202.5:\n",
    "        return \"South\"\n",
    "    elif 202.5 <= degrees < 247.5:\n",
    "        return \"Southwest\"\n",
    "    elif 247.5 <= degrees < 292.5:\n",
    "        return \"West\"\n",
    "    else:\n",
    "        return \"Northwest\"\n",
    "\n",
    "# Apply the function to create the new column\n",
    "df['Wind_direction'] = df['winddirection_10m_dominant'].apply(recode_wind_direction)"
   ]
  },
  {
   "cell_type": "code",
   "execution_count": 10,
   "metadata": {},
   "outputs": [],
   "source": [
    "df = df.drop('winddirection_10m_dominant', axis = 1)"
   ]
  },
  {
   "cell_type": "code",
   "execution_count": 11,
   "metadata": {},
   "outputs": [
    {
     "data": {
      "text/plain": [
       "(147480, 13)"
      ]
     },
     "execution_count": 11,
     "metadata": {},
     "output_type": "execute_result"
    }
   ],
   "source": [
    "df.shape"
   ]
  },
  {
   "cell_type": "code",
   "execution_count": 15,
   "metadata": {},
   "outputs": [
    {
     "data": {
      "text/html": [
       "<div>\n",
       "<style scoped>\n",
       "    .dataframe tbody tr th:only-of-type {\n",
       "        vertical-align: middle;\n",
       "    }\n",
       "\n",
       "    .dataframe tbody tr th {\n",
       "        vertical-align: top;\n",
       "    }\n",
       "\n",
       "    .dataframe thead th {\n",
       "        text-align: right;\n",
       "    }\n",
       "</style>\n",
       "<table border=\"1\" class=\"dataframe\">\n",
       "  <thead>\n",
       "    <tr style=\"text-align: right;\">\n",
       "      <th></th>\n",
       "      <th>weathercode</th>\n",
       "      <th>temperature_2m_max</th>\n",
       "      <th>temperature_2m_min</th>\n",
       "      <th>shortwave_radiation_sum</th>\n",
       "      <th>rain_sum</th>\n",
       "      <th>precipitation_hours</th>\n",
       "      <th>windspeed_10m_max</th>\n",
       "      <th>windgusts_10m_max</th>\n",
       "      <th>et0_fao_evapotranspiration</th>\n",
       "      <th>city</th>\n",
       "      <th>month</th>\n",
       "      <th>Wind_direction</th>\n",
       "    </tr>\n",
       "  </thead>\n",
       "  <tbody>\n",
       "    <tr>\n",
       "      <th>0</th>\n",
       "      <td>2</td>\n",
       "      <td>30.0</td>\n",
       "      <td>22.7</td>\n",
       "      <td>20.92</td>\n",
       "      <td>0.0</td>\n",
       "      <td>0.0</td>\n",
       "      <td>11.7</td>\n",
       "      <td>27.4</td>\n",
       "      <td>4.58</td>\n",
       "      <td>Colombo</td>\n",
       "      <td>1</td>\n",
       "      <td>North</td>\n",
       "    </tr>\n",
       "    <tr>\n",
       "      <th>1</th>\n",
       "      <td>51</td>\n",
       "      <td>29.9</td>\n",
       "      <td>23.5</td>\n",
       "      <td>17.71</td>\n",
       "      <td>0.1</td>\n",
       "      <td>1.0</td>\n",
       "      <td>13.0</td>\n",
       "      <td>27.0</td>\n",
       "      <td>3.84</td>\n",
       "      <td>Colombo</td>\n",
       "      <td>1</td>\n",
       "      <td>Northeast</td>\n",
       "    </tr>\n",
       "    <tr>\n",
       "      <th>2</th>\n",
       "      <td>51</td>\n",
       "      <td>29.5</td>\n",
       "      <td>23.2</td>\n",
       "      <td>17.76</td>\n",
       "      <td>0.6</td>\n",
       "      <td>3.0</td>\n",
       "      <td>12.3</td>\n",
       "      <td>27.4</td>\n",
       "      <td>3.65</td>\n",
       "      <td>Colombo</td>\n",
       "      <td>1</td>\n",
       "      <td>North</td>\n",
       "    </tr>\n",
       "    <tr>\n",
       "      <th>3</th>\n",
       "      <td>2</td>\n",
       "      <td>28.9</td>\n",
       "      <td>21.9</td>\n",
       "      <td>16.50</td>\n",
       "      <td>0.0</td>\n",
       "      <td>0.0</td>\n",
       "      <td>17.0</td>\n",
       "      <td>34.6</td>\n",
       "      <td>3.79</td>\n",
       "      <td>Colombo</td>\n",
       "      <td>1</td>\n",
       "      <td>North</td>\n",
       "    </tr>\n",
       "    <tr>\n",
       "      <th>4</th>\n",
       "      <td>1</td>\n",
       "      <td>28.1</td>\n",
       "      <td>21.3</td>\n",
       "      <td>23.61</td>\n",
       "      <td>0.0</td>\n",
       "      <td>0.0</td>\n",
       "      <td>18.7</td>\n",
       "      <td>37.1</td>\n",
       "      <td>4.97</td>\n",
       "      <td>Colombo</td>\n",
       "      <td>1</td>\n",
       "      <td>North</td>\n",
       "    </tr>\n",
       "  </tbody>\n",
       "</table>\n",
       "</div>"
      ],
      "text/plain": [
       "   weathercode  temperature_2m_max  temperature_2m_min  \\\n",
       "0            2                30.0                22.7   \n",
       "1           51                29.9                23.5   \n",
       "2           51                29.5                23.2   \n",
       "3            2                28.9                21.9   \n",
       "4            1                28.1                21.3   \n",
       "\n",
       "   shortwave_radiation_sum  rain_sum  precipitation_hours  windspeed_10m_max  \\\n",
       "0                    20.92       0.0                  0.0               11.7   \n",
       "1                    17.71       0.1                  1.0               13.0   \n",
       "2                    17.76       0.6                  3.0               12.3   \n",
       "3                    16.50       0.0                  0.0               17.0   \n",
       "4                    23.61       0.0                  0.0               18.7   \n",
       "\n",
       "   windgusts_10m_max  et0_fao_evapotranspiration     city month Wind_direction  \n",
       "0               27.4                        4.58  Colombo     1          North  \n",
       "1               27.0                        3.84  Colombo     1      Northeast  \n",
       "2               27.4                        3.65  Colombo     1          North  \n",
       "3               34.6                        3.79  Colombo     1          North  \n",
       "4               37.1                        4.97  Colombo     1          North  "
      ]
     },
     "execution_count": 15,
     "metadata": {},
     "output_type": "execute_result"
    }
   ],
   "source": [
    "df.head()"
   ]
  },
  {
   "cell_type": "markdown",
   "metadata": {
    "id": "jbe3IQAGVVZd"
   },
   "source": [
    "## Modelling"
   ]
  },
  {
   "cell_type": "code",
   "execution_count": 11,
   "metadata": {
    "colab": {
     "base_uri": "https://localhost:8080/"
    },
    "id": "7ch2CH1vX8bW",
    "outputId": "6dad2e09-617b-4a05-9d4c-37d516455b03"
   },
   "outputs": [
    {
     "name": "stdout",
     "output_type": "stream",
     "text": [
      "categorical features :  ['weathercode', 'city', 'month', 'Wind_direction']\n",
      "numerical features :  ['temperature_2m_max', 'temperature_2m_min', 'shortwave_radiation_sum', 'rain_sum', 'precipitation_hours', 'windspeed_10m_max', 'windgusts_10m_max', 'et0_fao_evapotranspiration']\n"
     ]
    }
   ],
   "source": [
    "categorical_features = ['weathercode', 'city','month','Wind_direction']\n",
    "numerical_features = [col for col in df.columns if col not in categorical_features]\n",
    "\n",
    "print('categorical features : ' , categorical_features)\n",
    "print('numerical features : ', numerical_features)"
   ]
  },
  {
   "cell_type": "code",
   "execution_count": 17,
   "metadata": {
    "colab": {
     "base_uri": "https://localhost:8080/",
     "height": 320
    },
    "id": "tO9qXMUIYGSl",
    "outputId": "fd6a8e12-e15b-43a0-9e1a-d33be4a4f04b"
   },
   "outputs": [
    {
     "data": {
      "text/html": [
       "<div>\n",
       "<style scoped>\n",
       "    .dataframe tbody tr th:only-of-type {\n",
       "        vertical-align: middle;\n",
       "    }\n",
       "\n",
       "    .dataframe tbody tr th {\n",
       "        vertical-align: top;\n",
       "    }\n",
       "\n",
       "    .dataframe thead th {\n",
       "        text-align: right;\n",
       "    }\n",
       "</style>\n",
       "<table border=\"1\" class=\"dataframe\">\n",
       "  <thead>\n",
       "    <tr style=\"text-align: right;\">\n",
       "      <th></th>\n",
       "      <th>temperature_2m_max</th>\n",
       "      <th>temperature_2m_min</th>\n",
       "      <th>shortwave_radiation_sum</th>\n",
       "      <th>rain_sum</th>\n",
       "      <th>precipitation_hours</th>\n",
       "      <th>windspeed_10m_max</th>\n",
       "      <th>windgusts_10m_max</th>\n",
       "      <th>et0_fao_evapotranspiration</th>\n",
       "    </tr>\n",
       "  </thead>\n",
       "  <tbody>\n",
       "    <tr>\n",
       "      <th>count</th>\n",
       "      <td>147480.000000</td>\n",
       "      <td>147480.000000</td>\n",
       "      <td>147480.000000</td>\n",
       "      <td>147480.000000</td>\n",
       "      <td>147480.000000</td>\n",
       "      <td>147480.000000</td>\n",
       "      <td>147480.000000</td>\n",
       "      <td>147480.000000</td>\n",
       "    </tr>\n",
       "    <tr>\n",
       "      <th>mean</th>\n",
       "      <td>29.242367</td>\n",
       "      <td>23.899913</td>\n",
       "      <td>18.483513</td>\n",
       "      <td>5.975637</td>\n",
       "      <td>8.762524</td>\n",
       "      <td>15.561288</td>\n",
       "      <td>34.796932</td>\n",
       "      <td>3.896143</td>\n",
       "    </tr>\n",
       "    <tr>\n",
       "      <th>std</th>\n",
       "      <td>2.120345</td>\n",
       "      <td>2.059291</td>\n",
       "      <td>4.214270</td>\n",
       "      <td>10.215294</td>\n",
       "      <td>7.191010</td>\n",
       "      <td>6.213737</td>\n",
       "      <td>10.214372</td>\n",
       "      <td>1.023126</td>\n",
       "    </tr>\n",
       "    <tr>\n",
       "      <th>min</th>\n",
       "      <td>17.500000</td>\n",
       "      <td>12.100000</td>\n",
       "      <td>1.230000</td>\n",
       "      <td>0.000000</td>\n",
       "      <td>0.000000</td>\n",
       "      <td>2.200000</td>\n",
       "      <td>11.500000</td>\n",
       "      <td>0.420000</td>\n",
       "    </tr>\n",
       "    <tr>\n",
       "      <th>25%</th>\n",
       "      <td>28.200000</td>\n",
       "      <td>23.100000</td>\n",
       "      <td>16.220000</td>\n",
       "      <td>0.400000</td>\n",
       "      <td>2.000000</td>\n",
       "      <td>11.000000</td>\n",
       "      <td>26.600000</td>\n",
       "      <td>3.260000</td>\n",
       "    </tr>\n",
       "    <tr>\n",
       "      <th>50%</th>\n",
       "      <td>29.200000</td>\n",
       "      <td>24.300000</td>\n",
       "      <td>19.130000</td>\n",
       "      <td>2.600000</td>\n",
       "      <td>8.000000</td>\n",
       "      <td>15.000000</td>\n",
       "      <td>33.100000</td>\n",
       "      <td>3.890000</td>\n",
       "    </tr>\n",
       "    <tr>\n",
       "      <th>75%</th>\n",
       "      <td>30.400000</td>\n",
       "      <td>25.200000</td>\n",
       "      <td>21.510000</td>\n",
       "      <td>7.500000</td>\n",
       "      <td>14.000000</td>\n",
       "      <td>18.900000</td>\n",
       "      <td>41.800000</td>\n",
       "      <td>4.550000</td>\n",
       "    </tr>\n",
       "    <tr>\n",
       "      <th>max</th>\n",
       "      <td>37.500000</td>\n",
       "      <td>30.000000</td>\n",
       "      <td>28.980000</td>\n",
       "      <td>338.800000</td>\n",
       "      <td>24.000000</td>\n",
       "      <td>50.200000</td>\n",
       "      <td>91.800000</td>\n",
       "      <td>8.140000</td>\n",
       "    </tr>\n",
       "  </tbody>\n",
       "</table>\n",
       "</div>"
      ],
      "text/plain": [
       "       temperature_2m_max  temperature_2m_min  shortwave_radiation_sum  \\\n",
       "count       147480.000000       147480.000000            147480.000000   \n",
       "mean            29.242367           23.899913                18.483513   \n",
       "std              2.120345            2.059291                 4.214270   \n",
       "min             17.500000           12.100000                 1.230000   \n",
       "25%             28.200000           23.100000                16.220000   \n",
       "50%             29.200000           24.300000                19.130000   \n",
       "75%             30.400000           25.200000                21.510000   \n",
       "max             37.500000           30.000000                28.980000   \n",
       "\n",
       "            rain_sum  precipitation_hours  windspeed_10m_max  \\\n",
       "count  147480.000000        147480.000000      147480.000000   \n",
       "mean        5.975637             8.762524          15.561288   \n",
       "std        10.215294             7.191010           6.213737   \n",
       "min         0.000000             0.000000           2.200000   \n",
       "25%         0.400000             2.000000          11.000000   \n",
       "50%         2.600000             8.000000          15.000000   \n",
       "75%         7.500000            14.000000          18.900000   \n",
       "max       338.800000            24.000000          50.200000   \n",
       "\n",
       "       windgusts_10m_max  et0_fao_evapotranspiration  \n",
       "count      147480.000000               147480.000000  \n",
       "mean           34.796932                    3.896143  \n",
       "std            10.214372                    1.023126  \n",
       "min            11.500000                    0.420000  \n",
       "25%            26.600000                    3.260000  \n",
       "50%            33.100000                    3.890000  \n",
       "75%            41.800000                    4.550000  \n",
       "max            91.800000                    8.140000  "
      ]
     },
     "execution_count": 17,
     "metadata": {},
     "output_type": "execute_result"
    }
   ],
   "source": [
    "df[numerical_features].describe()"
   ]
  },
  {
   "cell_type": "markdown",
   "metadata": {
    "id": "3GeuAuQAbiIt"
   },
   "source": [
    "## Creating dummy variables"
   ]
  },
  {
   "cell_type": "code",
   "execution_count": 12,
   "metadata": {
    "id": "04VWPmTcYjgn"
   },
   "outputs": [],
   "source": [
    "# select the columns to be encoded\n",
    "cols_to_encode = ['city','month','Wind_direction']\n",
    "# perform one-hot encoding on the selected columns\n",
    "encoded_data = pd.get_dummies(df[cols_to_encode], prefix_sep='_', drop_first=True)\n",
    "\n",
    "# add the encoded variables to the original dataframe\n",
    "df1 = pd.concat([df, encoded_data], axis=1)\n",
    "\n",
    "# Drop original variables from dataframe\n",
    "df1 = df1.drop(cols_to_encode, axis=1)\n"
   ]
  },
  {
   "cell_type": "code",
   "execution_count": 19,
   "metadata": {
    "colab": {
     "base_uri": "https://localhost:8080/"
    },
    "id": "ggbqwqIdbIgS",
    "outputId": "249cb93c-45e1-43eb-90b1-f94b52936852"
   },
   "outputs": [
    {
     "data": {
      "text/plain": [
       "(147480, 56)"
      ]
     },
     "execution_count": 19,
     "metadata": {},
     "output_type": "execute_result"
    }
   ],
   "source": [
    "df1.shape"
   ]
  },
  {
   "cell_type": "code",
   "execution_count": 20,
   "metadata": {
    "colab": {
     "base_uri": "https://localhost:8080/",
     "height": 261
    },
    "id": "2yYfObXPbNTP",
    "outputId": "2976310b-c194-43f8-9044-8319dffa8f5e"
   },
   "outputs": [
    {
     "data": {
      "text/html": [
       "<div>\n",
       "<style scoped>\n",
       "    .dataframe tbody tr th:only-of-type {\n",
       "        vertical-align: middle;\n",
       "    }\n",
       "\n",
       "    .dataframe tbody tr th {\n",
       "        vertical-align: top;\n",
       "    }\n",
       "\n",
       "    .dataframe thead th {\n",
       "        text-align: right;\n",
       "    }\n",
       "</style>\n",
       "<table border=\"1\" class=\"dataframe\">\n",
       "  <thead>\n",
       "    <tr style=\"text-align: right;\">\n",
       "      <th></th>\n",
       "      <th>weathercode</th>\n",
       "      <th>temperature_2m_max</th>\n",
       "      <th>temperature_2m_min</th>\n",
       "      <th>shortwave_radiation_sum</th>\n",
       "      <th>rain_sum</th>\n",
       "      <th>precipitation_hours</th>\n",
       "      <th>windspeed_10m_max</th>\n",
       "      <th>windgusts_10m_max</th>\n",
       "      <th>et0_fao_evapotranspiration</th>\n",
       "      <th>city_Badulla</th>\n",
       "      <th>city_Bentota</th>\n",
       "      <th>city_Colombo</th>\n",
       "      <th>city_Galle</th>\n",
       "      <th>city_Gampaha</th>\n",
       "      <th>city_Hambantota</th>\n",
       "      <th>city_Hatton</th>\n",
       "      <th>city_Jaffna</th>\n",
       "      <th>city_Kalmunai</th>\n",
       "      <th>city_Kalutara</th>\n",
       "      <th>city_Kandy</th>\n",
       "      <th>city_Kesbewa</th>\n",
       "      <th>city_Kolonnawa</th>\n",
       "      <th>city_Kurunegala</th>\n",
       "      <th>city_Mabole</th>\n",
       "      <th>city_Maharagama</th>\n",
       "      <th>city_Mannar</th>\n",
       "      <th>city_Matale</th>\n",
       "      <th>city_Matara</th>\n",
       "      <th>city_Moratuwa</th>\n",
       "      <th>city_Mount Lavinia</th>\n",
       "      <th>city_Negombo</th>\n",
       "      <th>city_Oruwala</th>\n",
       "      <th>city_Pothuhera</th>\n",
       "      <th>city_Puttalam</th>\n",
       "      <th>city_Ratnapura</th>\n",
       "      <th>city_Sri Jayewardenepura Kotte</th>\n",
       "      <th>city_Trincomalee</th>\n",
       "      <th>city_Weligama</th>\n",
       "      <th>month_10</th>\n",
       "      <th>month_11</th>\n",
       "      <th>month_12</th>\n",
       "      <th>month_2</th>\n",
       "      <th>month_3</th>\n",
       "      <th>month_4</th>\n",
       "      <th>month_5</th>\n",
       "      <th>month_6</th>\n",
       "      <th>month_7</th>\n",
       "      <th>month_8</th>\n",
       "      <th>month_9</th>\n",
       "      <th>Wind_direction_North</th>\n",
       "      <th>Wind_direction_Northeast</th>\n",
       "      <th>Wind_direction_Northwest</th>\n",
       "      <th>Wind_direction_South</th>\n",
       "      <th>Wind_direction_Southeast</th>\n",
       "      <th>Wind_direction_Southwest</th>\n",
       "      <th>Wind_direction_West</th>\n",
       "    </tr>\n",
       "  </thead>\n",
       "  <tbody>\n",
       "    <tr>\n",
       "      <th>0</th>\n",
       "      <td>2</td>\n",
       "      <td>30.0</td>\n",
       "      <td>22.7</td>\n",
       "      <td>20.92</td>\n",
       "      <td>0.0</td>\n",
       "      <td>0.0</td>\n",
       "      <td>11.7</td>\n",
       "      <td>27.4</td>\n",
       "      <td>4.58</td>\n",
       "      <td>0</td>\n",
       "      <td>0</td>\n",
       "      <td>1</td>\n",
       "      <td>0</td>\n",
       "      <td>0</td>\n",
       "      <td>0</td>\n",
       "      <td>0</td>\n",
       "      <td>0</td>\n",
       "      <td>0</td>\n",
       "      <td>0</td>\n",
       "      <td>0</td>\n",
       "      <td>0</td>\n",
       "      <td>0</td>\n",
       "      <td>0</td>\n",
       "      <td>0</td>\n",
       "      <td>0</td>\n",
       "      <td>0</td>\n",
       "      <td>0</td>\n",
       "      <td>0</td>\n",
       "      <td>0</td>\n",
       "      <td>0</td>\n",
       "      <td>0</td>\n",
       "      <td>0</td>\n",
       "      <td>0</td>\n",
       "      <td>0</td>\n",
       "      <td>0</td>\n",
       "      <td>0</td>\n",
       "      <td>0</td>\n",
       "      <td>0</td>\n",
       "      <td>0</td>\n",
       "      <td>0</td>\n",
       "      <td>0</td>\n",
       "      <td>0</td>\n",
       "      <td>0</td>\n",
       "      <td>0</td>\n",
       "      <td>0</td>\n",
       "      <td>0</td>\n",
       "      <td>0</td>\n",
       "      <td>0</td>\n",
       "      <td>0</td>\n",
       "      <td>1</td>\n",
       "      <td>0</td>\n",
       "      <td>0</td>\n",
       "      <td>0</td>\n",
       "      <td>0</td>\n",
       "      <td>0</td>\n",
       "      <td>0</td>\n",
       "    </tr>\n",
       "    <tr>\n",
       "      <th>1</th>\n",
       "      <td>51</td>\n",
       "      <td>29.9</td>\n",
       "      <td>23.5</td>\n",
       "      <td>17.71</td>\n",
       "      <td>0.1</td>\n",
       "      <td>1.0</td>\n",
       "      <td>13.0</td>\n",
       "      <td>27.0</td>\n",
       "      <td>3.84</td>\n",
       "      <td>0</td>\n",
       "      <td>0</td>\n",
       "      <td>1</td>\n",
       "      <td>0</td>\n",
       "      <td>0</td>\n",
       "      <td>0</td>\n",
       "      <td>0</td>\n",
       "      <td>0</td>\n",
       "      <td>0</td>\n",
       "      <td>0</td>\n",
       "      <td>0</td>\n",
       "      <td>0</td>\n",
       "      <td>0</td>\n",
       "      <td>0</td>\n",
       "      <td>0</td>\n",
       "      <td>0</td>\n",
       "      <td>0</td>\n",
       "      <td>0</td>\n",
       "      <td>0</td>\n",
       "      <td>0</td>\n",
       "      <td>0</td>\n",
       "      <td>0</td>\n",
       "      <td>0</td>\n",
       "      <td>0</td>\n",
       "      <td>0</td>\n",
       "      <td>0</td>\n",
       "      <td>0</td>\n",
       "      <td>0</td>\n",
       "      <td>0</td>\n",
       "      <td>0</td>\n",
       "      <td>0</td>\n",
       "      <td>0</td>\n",
       "      <td>0</td>\n",
       "      <td>0</td>\n",
       "      <td>0</td>\n",
       "      <td>0</td>\n",
       "      <td>0</td>\n",
       "      <td>0</td>\n",
       "      <td>0</td>\n",
       "      <td>0</td>\n",
       "      <td>0</td>\n",
       "      <td>1</td>\n",
       "      <td>0</td>\n",
       "      <td>0</td>\n",
       "      <td>0</td>\n",
       "      <td>0</td>\n",
       "      <td>0</td>\n",
       "    </tr>\n",
       "    <tr>\n",
       "      <th>2</th>\n",
       "      <td>51</td>\n",
       "      <td>29.5</td>\n",
       "      <td>23.2</td>\n",
       "      <td>17.76</td>\n",
       "      <td>0.6</td>\n",
       "      <td>3.0</td>\n",
       "      <td>12.3</td>\n",
       "      <td>27.4</td>\n",
       "      <td>3.65</td>\n",
       "      <td>0</td>\n",
       "      <td>0</td>\n",
       "      <td>1</td>\n",
       "      <td>0</td>\n",
       "      <td>0</td>\n",
       "      <td>0</td>\n",
       "      <td>0</td>\n",
       "      <td>0</td>\n",
       "      <td>0</td>\n",
       "      <td>0</td>\n",
       "      <td>0</td>\n",
       "      <td>0</td>\n",
       "      <td>0</td>\n",
       "      <td>0</td>\n",
       "      <td>0</td>\n",
       "      <td>0</td>\n",
       "      <td>0</td>\n",
       "      <td>0</td>\n",
       "      <td>0</td>\n",
       "      <td>0</td>\n",
       "      <td>0</td>\n",
       "      <td>0</td>\n",
       "      <td>0</td>\n",
       "      <td>0</td>\n",
       "      <td>0</td>\n",
       "      <td>0</td>\n",
       "      <td>0</td>\n",
       "      <td>0</td>\n",
       "      <td>0</td>\n",
       "      <td>0</td>\n",
       "      <td>0</td>\n",
       "      <td>0</td>\n",
       "      <td>0</td>\n",
       "      <td>0</td>\n",
       "      <td>0</td>\n",
       "      <td>0</td>\n",
       "      <td>0</td>\n",
       "      <td>0</td>\n",
       "      <td>0</td>\n",
       "      <td>0</td>\n",
       "      <td>1</td>\n",
       "      <td>0</td>\n",
       "      <td>0</td>\n",
       "      <td>0</td>\n",
       "      <td>0</td>\n",
       "      <td>0</td>\n",
       "      <td>0</td>\n",
       "    </tr>\n",
       "    <tr>\n",
       "      <th>3</th>\n",
       "      <td>2</td>\n",
       "      <td>28.9</td>\n",
       "      <td>21.9</td>\n",
       "      <td>16.50</td>\n",
       "      <td>0.0</td>\n",
       "      <td>0.0</td>\n",
       "      <td>17.0</td>\n",
       "      <td>34.6</td>\n",
       "      <td>3.79</td>\n",
       "      <td>0</td>\n",
       "      <td>0</td>\n",
       "      <td>1</td>\n",
       "      <td>0</td>\n",
       "      <td>0</td>\n",
       "      <td>0</td>\n",
       "      <td>0</td>\n",
       "      <td>0</td>\n",
       "      <td>0</td>\n",
       "      <td>0</td>\n",
       "      <td>0</td>\n",
       "      <td>0</td>\n",
       "      <td>0</td>\n",
       "      <td>0</td>\n",
       "      <td>0</td>\n",
       "      <td>0</td>\n",
       "      <td>0</td>\n",
       "      <td>0</td>\n",
       "      <td>0</td>\n",
       "      <td>0</td>\n",
       "      <td>0</td>\n",
       "      <td>0</td>\n",
       "      <td>0</td>\n",
       "      <td>0</td>\n",
       "      <td>0</td>\n",
       "      <td>0</td>\n",
       "      <td>0</td>\n",
       "      <td>0</td>\n",
       "      <td>0</td>\n",
       "      <td>0</td>\n",
       "      <td>0</td>\n",
       "      <td>0</td>\n",
       "      <td>0</td>\n",
       "      <td>0</td>\n",
       "      <td>0</td>\n",
       "      <td>0</td>\n",
       "      <td>0</td>\n",
       "      <td>0</td>\n",
       "      <td>0</td>\n",
       "      <td>0</td>\n",
       "      <td>1</td>\n",
       "      <td>0</td>\n",
       "      <td>0</td>\n",
       "      <td>0</td>\n",
       "      <td>0</td>\n",
       "      <td>0</td>\n",
       "      <td>0</td>\n",
       "    </tr>\n",
       "    <tr>\n",
       "      <th>4</th>\n",
       "      <td>1</td>\n",
       "      <td>28.1</td>\n",
       "      <td>21.3</td>\n",
       "      <td>23.61</td>\n",
       "      <td>0.0</td>\n",
       "      <td>0.0</td>\n",
       "      <td>18.7</td>\n",
       "      <td>37.1</td>\n",
       "      <td>4.97</td>\n",
       "      <td>0</td>\n",
       "      <td>0</td>\n",
       "      <td>1</td>\n",
       "      <td>0</td>\n",
       "      <td>0</td>\n",
       "      <td>0</td>\n",
       "      <td>0</td>\n",
       "      <td>0</td>\n",
       "      <td>0</td>\n",
       "      <td>0</td>\n",
       "      <td>0</td>\n",
       "      <td>0</td>\n",
       "      <td>0</td>\n",
       "      <td>0</td>\n",
       "      <td>0</td>\n",
       "      <td>0</td>\n",
       "      <td>0</td>\n",
       "      <td>0</td>\n",
       "      <td>0</td>\n",
       "      <td>0</td>\n",
       "      <td>0</td>\n",
       "      <td>0</td>\n",
       "      <td>0</td>\n",
       "      <td>0</td>\n",
       "      <td>0</td>\n",
       "      <td>0</td>\n",
       "      <td>0</td>\n",
       "      <td>0</td>\n",
       "      <td>0</td>\n",
       "      <td>0</td>\n",
       "      <td>0</td>\n",
       "      <td>0</td>\n",
       "      <td>0</td>\n",
       "      <td>0</td>\n",
       "      <td>0</td>\n",
       "      <td>0</td>\n",
       "      <td>0</td>\n",
       "      <td>0</td>\n",
       "      <td>0</td>\n",
       "      <td>0</td>\n",
       "      <td>1</td>\n",
       "      <td>0</td>\n",
       "      <td>0</td>\n",
       "      <td>0</td>\n",
       "      <td>0</td>\n",
       "      <td>0</td>\n",
       "      <td>0</td>\n",
       "    </tr>\n",
       "  </tbody>\n",
       "</table>\n",
       "</div>"
      ],
      "text/plain": [
       "   weathercode  temperature_2m_max  temperature_2m_min  \\\n",
       "0            2                30.0                22.7   \n",
       "1           51                29.9                23.5   \n",
       "2           51                29.5                23.2   \n",
       "3            2                28.9                21.9   \n",
       "4            1                28.1                21.3   \n",
       "\n",
       "   shortwave_radiation_sum  rain_sum  precipitation_hours  windspeed_10m_max  \\\n",
       "0                    20.92       0.0                  0.0               11.7   \n",
       "1                    17.71       0.1                  1.0               13.0   \n",
       "2                    17.76       0.6                  3.0               12.3   \n",
       "3                    16.50       0.0                  0.0               17.0   \n",
       "4                    23.61       0.0                  0.0               18.7   \n",
       "\n",
       "   windgusts_10m_max  et0_fao_evapotranspiration  city_Badulla  city_Bentota  \\\n",
       "0               27.4                        4.58             0             0   \n",
       "1               27.0                        3.84             0             0   \n",
       "2               27.4                        3.65             0             0   \n",
       "3               34.6                        3.79             0             0   \n",
       "4               37.1                        4.97             0             0   \n",
       "\n",
       "   city_Colombo  city_Galle  city_Gampaha  city_Hambantota  city_Hatton  \\\n",
       "0             1           0             0                0            0   \n",
       "1             1           0             0                0            0   \n",
       "2             1           0             0                0            0   \n",
       "3             1           0             0                0            0   \n",
       "4             1           0             0                0            0   \n",
       "\n",
       "   city_Jaffna  city_Kalmunai  city_Kalutara  city_Kandy  city_Kesbewa  \\\n",
       "0            0              0              0           0             0   \n",
       "1            0              0              0           0             0   \n",
       "2            0              0              0           0             0   \n",
       "3            0              0              0           0             0   \n",
       "4            0              0              0           0             0   \n",
       "\n",
       "   city_Kolonnawa  city_Kurunegala  city_Mabole  city_Maharagama  city_Mannar  \\\n",
       "0               0                0            0                0            0   \n",
       "1               0                0            0                0            0   \n",
       "2               0                0            0                0            0   \n",
       "3               0                0            0                0            0   \n",
       "4               0                0            0                0            0   \n",
       "\n",
       "   city_Matale  city_Matara  city_Moratuwa  city_Mount Lavinia  city_Negombo  \\\n",
       "0            0            0              0                   0             0   \n",
       "1            0            0              0                   0             0   \n",
       "2            0            0              0                   0             0   \n",
       "3            0            0              0                   0             0   \n",
       "4            0            0              0                   0             0   \n",
       "\n",
       "   city_Oruwala  city_Pothuhera  city_Puttalam  city_Ratnapura  \\\n",
       "0             0               0              0               0   \n",
       "1             0               0              0               0   \n",
       "2             0               0              0               0   \n",
       "3             0               0              0               0   \n",
       "4             0               0              0               0   \n",
       "\n",
       "   city_Sri Jayewardenepura Kotte  city_Trincomalee  city_Weligama  month_10  \\\n",
       "0                               0                 0              0         0   \n",
       "1                               0                 0              0         0   \n",
       "2                               0                 0              0         0   \n",
       "3                               0                 0              0         0   \n",
       "4                               0                 0              0         0   \n",
       "\n",
       "   month_11  month_12  month_2  month_3  month_4  month_5  month_6  month_7  \\\n",
       "0         0         0        0        0        0        0        0        0   \n",
       "1         0         0        0        0        0        0        0        0   \n",
       "2         0         0        0        0        0        0        0        0   \n",
       "3         0         0        0        0        0        0        0        0   \n",
       "4         0         0        0        0        0        0        0        0   \n",
       "\n",
       "   month_8  month_9  Wind_direction_North  Wind_direction_Northeast  \\\n",
       "0        0        0                     1                         0   \n",
       "1        0        0                     0                         1   \n",
       "2        0        0                     1                         0   \n",
       "3        0        0                     1                         0   \n",
       "4        0        0                     1                         0   \n",
       "\n",
       "   Wind_direction_Northwest  Wind_direction_South  Wind_direction_Southeast  \\\n",
       "0                         0                     0                         0   \n",
       "1                         0                     0                         0   \n",
       "2                         0                     0                         0   \n",
       "3                         0                     0                         0   \n",
       "4                         0                     0                         0   \n",
       "\n",
       "   Wind_direction_Southwest  Wind_direction_West  \n",
       "0                         0                    0  \n",
       "1                         0                    0  \n",
       "2                         0                    0  \n",
       "3                         0                    0  \n",
       "4                         0                    0  "
      ]
     },
     "execution_count": 20,
     "metadata": {},
     "output_type": "execute_result"
    }
   ],
   "source": [
    "df1.head()"
   ]
  },
  {
   "cell_type": "markdown",
   "metadata": {
    "id": "Q_O3FqS5fM_Q"
   },
   "source": [
    "### It take too much time to train whole dataset. Hence a random sample is taken for model fitting."
   ]
  },
  {
   "cell_type": "code",
   "execution_count": 21,
   "metadata": {
    "colab": {
     "base_uri": "https://localhost:8080/"
    },
    "id": "lPlG3qx9fHvh",
    "outputId": "2a4f7fc8-d575-4afc-b48c-b17e76d2aedd"
   },
   "outputs": [
    {
     "name": "stdout",
     "output_type": "stream",
     "text": [
      "(30000, 56)\n"
     ]
    }
   ],
   "source": [
    "sample_size = 30000  #the desired sample size\n",
    "\n",
    "# Take a random sample from the dataset\n",
    "sample = df1.sample(n=sample_size, random_state=42)  # Set random_state for reproducibility\n",
    "#df2 = sample.copy()\n",
    "# Print the random sample\n",
    "print(sample.shape)\n"
   ]
  },
  {
   "cell_type": "raw",
   "metadata": {},
   "source": [
    "#Keep either this one or the next one.\n",
    "\n",
    "from sklearn.model_selection import train_test_split, cross_val_score, GridSearchCV\n",
    "df2 = sample.copy()\n",
    "## Initialize X, y and split dataset\n",
    "y = df2['weathercode']\n",
    "X = df2.drop(['weathercode'], axis=1)\n",
    "x_train, x_test, y_train, y_test = train_test_split(X, y, test_size=0.20, random_state=42)"
   ]
  },
  {
   "cell_type": "code",
   "execution_count": 13,
   "metadata": {
    "id": "ijqlgfxUBvUq"
   },
   "outputs": [],
   "source": [
    "dropping_variables = ['et0_fao_evapotranspiration']\n",
    "\n",
    "df2 = df1.drop(dropping_variables, axis=1)\n"
   ]
  },
  {
   "cell_type": "code",
   "execution_count": 14,
   "metadata": {
    "id": "YLqUQ3cbeZX2"
   },
   "outputs": [],
   "source": [
    "from sklearn.model_selection import train_test_split, cross_val_score, GridSearchCV\n",
    "\n",
    "## Initialize X, y and split dataset\n",
    "y = df2['weathercode']\n",
    "X = df2.drop('weathercode', axis=1)\n",
    "x_train, x_test, y_train, y_test = train_test_split(X, y, test_size=0.20, random_state=42)"
   ]
  },
  {
   "cell_type": "code",
   "execution_count": 24,
   "metadata": {},
   "outputs": [
    {
     "data": {
      "text/html": [
       "<div>\n",
       "<style scoped>\n",
       "    .dataframe tbody tr th:only-of-type {\n",
       "        vertical-align: middle;\n",
       "    }\n",
       "\n",
       "    .dataframe tbody tr th {\n",
       "        vertical-align: top;\n",
       "    }\n",
       "\n",
       "    .dataframe thead th {\n",
       "        text-align: right;\n",
       "    }\n",
       "</style>\n",
       "<table border=\"1\" class=\"dataframe\">\n",
       "  <thead>\n",
       "    <tr style=\"text-align: right;\">\n",
       "      <th></th>\n",
       "      <th>temperature_2m_max</th>\n",
       "      <th>temperature_2m_min</th>\n",
       "      <th>shortwave_radiation_sum</th>\n",
       "      <th>rain_sum</th>\n",
       "      <th>precipitation_hours</th>\n",
       "      <th>windspeed_10m_max</th>\n",
       "      <th>windgusts_10m_max</th>\n",
       "      <th>city_Badulla</th>\n",
       "      <th>city_Bentota</th>\n",
       "      <th>city_Colombo</th>\n",
       "      <th>city_Galle</th>\n",
       "      <th>city_Gampaha</th>\n",
       "      <th>city_Hambantota</th>\n",
       "      <th>city_Hatton</th>\n",
       "      <th>city_Jaffna</th>\n",
       "      <th>city_Kalmunai</th>\n",
       "      <th>city_Kalutara</th>\n",
       "      <th>city_Kandy</th>\n",
       "      <th>city_Kesbewa</th>\n",
       "      <th>city_Kolonnawa</th>\n",
       "      <th>city_Kurunegala</th>\n",
       "      <th>city_Mabole</th>\n",
       "      <th>city_Maharagama</th>\n",
       "      <th>city_Mannar</th>\n",
       "      <th>city_Matale</th>\n",
       "      <th>city_Matara</th>\n",
       "      <th>city_Moratuwa</th>\n",
       "      <th>city_Mount Lavinia</th>\n",
       "      <th>city_Negombo</th>\n",
       "      <th>city_Oruwala</th>\n",
       "      <th>city_Pothuhera</th>\n",
       "      <th>city_Puttalam</th>\n",
       "      <th>city_Ratnapura</th>\n",
       "      <th>city_Sri Jayewardenepura Kotte</th>\n",
       "      <th>city_Trincomalee</th>\n",
       "      <th>city_Weligama</th>\n",
       "      <th>month_10</th>\n",
       "      <th>month_11</th>\n",
       "      <th>month_12</th>\n",
       "      <th>month_2</th>\n",
       "      <th>month_3</th>\n",
       "      <th>month_4</th>\n",
       "      <th>month_5</th>\n",
       "      <th>month_6</th>\n",
       "      <th>month_7</th>\n",
       "      <th>month_8</th>\n",
       "      <th>month_9</th>\n",
       "      <th>Wind_direction_North</th>\n",
       "      <th>Wind_direction_Northeast</th>\n",
       "      <th>Wind_direction_Northwest</th>\n",
       "      <th>Wind_direction_South</th>\n",
       "      <th>Wind_direction_Southeast</th>\n",
       "      <th>Wind_direction_Southwest</th>\n",
       "      <th>Wind_direction_West</th>\n",
       "    </tr>\n",
       "  </thead>\n",
       "  <tbody>\n",
       "    <tr>\n",
       "      <th>9789</th>\n",
       "      <td>30.8</td>\n",
       "      <td>25.2</td>\n",
       "      <td>16.47</td>\n",
       "      <td>9.1</td>\n",
       "      <td>23.0</td>\n",
       "      <td>16.9</td>\n",
       "      <td>31.7</td>\n",
       "      <td>0</td>\n",
       "      <td>0</td>\n",
       "      <td>0</td>\n",
       "      <td>0</td>\n",
       "      <td>0</td>\n",
       "      <td>0</td>\n",
       "      <td>0</td>\n",
       "      <td>0</td>\n",
       "      <td>0</td>\n",
       "      <td>0</td>\n",
       "      <td>0</td>\n",
       "      <td>0</td>\n",
       "      <td>0</td>\n",
       "      <td>0</td>\n",
       "      <td>0</td>\n",
       "      <td>0</td>\n",
       "      <td>0</td>\n",
       "      <td>0</td>\n",
       "      <td>0</td>\n",
       "      <td>0</td>\n",
       "      <td>1</td>\n",
       "      <td>0</td>\n",
       "      <td>0</td>\n",
       "      <td>0</td>\n",
       "      <td>0</td>\n",
       "      <td>0</td>\n",
       "      <td>0</td>\n",
       "      <td>0</td>\n",
       "      <td>0</td>\n",
       "      <td>0</td>\n",
       "      <td>0</td>\n",
       "      <td>0</td>\n",
       "      <td>0</td>\n",
       "      <td>0</td>\n",
       "      <td>0</td>\n",
       "      <td>1</td>\n",
       "      <td>0</td>\n",
       "      <td>0</td>\n",
       "      <td>0</td>\n",
       "      <td>0</td>\n",
       "      <td>0</td>\n",
       "      <td>0</td>\n",
       "      <td>0</td>\n",
       "      <td>0</td>\n",
       "      <td>0</td>\n",
       "      <td>0</td>\n",
       "      <td>1</td>\n",
       "    </tr>\n",
       "    <tr>\n",
       "      <th>7329</th>\n",
       "      <td>29.2</td>\n",
       "      <td>25.6</td>\n",
       "      <td>21.42</td>\n",
       "      <td>2.8</td>\n",
       "      <td>12.0</td>\n",
       "      <td>20.2</td>\n",
       "      <td>44.6</td>\n",
       "      <td>0</td>\n",
       "      <td>0</td>\n",
       "      <td>0</td>\n",
       "      <td>0</td>\n",
       "      <td>0</td>\n",
       "      <td>0</td>\n",
       "      <td>0</td>\n",
       "      <td>0</td>\n",
       "      <td>0</td>\n",
       "      <td>0</td>\n",
       "      <td>0</td>\n",
       "      <td>0</td>\n",
       "      <td>0</td>\n",
       "      <td>0</td>\n",
       "      <td>0</td>\n",
       "      <td>0</td>\n",
       "      <td>0</td>\n",
       "      <td>0</td>\n",
       "      <td>0</td>\n",
       "      <td>0</td>\n",
       "      <td>1</td>\n",
       "      <td>0</td>\n",
       "      <td>0</td>\n",
       "      <td>0</td>\n",
       "      <td>0</td>\n",
       "      <td>0</td>\n",
       "      <td>0</td>\n",
       "      <td>0</td>\n",
       "      <td>0</td>\n",
       "      <td>0</td>\n",
       "      <td>0</td>\n",
       "      <td>0</td>\n",
       "      <td>0</td>\n",
       "      <td>0</td>\n",
       "      <td>0</td>\n",
       "      <td>0</td>\n",
       "      <td>0</td>\n",
       "      <td>0</td>\n",
       "      <td>1</td>\n",
       "      <td>0</td>\n",
       "      <td>0</td>\n",
       "      <td>0</td>\n",
       "      <td>0</td>\n",
       "      <td>0</td>\n",
       "      <td>0</td>\n",
       "      <td>0</td>\n",
       "      <td>1</td>\n",
       "    </tr>\n",
       "    <tr>\n",
       "      <th>141361</th>\n",
       "      <td>32.5</td>\n",
       "      <td>25.1</td>\n",
       "      <td>22.37</td>\n",
       "      <td>0.0</td>\n",
       "      <td>0.0</td>\n",
       "      <td>20.2</td>\n",
       "      <td>41.8</td>\n",
       "      <td>0</td>\n",
       "      <td>0</td>\n",
       "      <td>0</td>\n",
       "      <td>0</td>\n",
       "      <td>0</td>\n",
       "      <td>1</td>\n",
       "      <td>0</td>\n",
       "      <td>0</td>\n",
       "      <td>0</td>\n",
       "      <td>0</td>\n",
       "      <td>0</td>\n",
       "      <td>0</td>\n",
       "      <td>0</td>\n",
       "      <td>0</td>\n",
       "      <td>0</td>\n",
       "      <td>0</td>\n",
       "      <td>0</td>\n",
       "      <td>0</td>\n",
       "      <td>0</td>\n",
       "      <td>0</td>\n",
       "      <td>0</td>\n",
       "      <td>0</td>\n",
       "      <td>0</td>\n",
       "      <td>0</td>\n",
       "      <td>0</td>\n",
       "      <td>0</td>\n",
       "      <td>0</td>\n",
       "      <td>0</td>\n",
       "      <td>0</td>\n",
       "      <td>0</td>\n",
       "      <td>0</td>\n",
       "      <td>0</td>\n",
       "      <td>0</td>\n",
       "      <td>1</td>\n",
       "      <td>0</td>\n",
       "      <td>0</td>\n",
       "      <td>0</td>\n",
       "      <td>0</td>\n",
       "      <td>0</td>\n",
       "      <td>0</td>\n",
       "      <td>0</td>\n",
       "      <td>0</td>\n",
       "      <td>0</td>\n",
       "      <td>0</td>\n",
       "      <td>0</td>\n",
       "      <td>0</td>\n",
       "      <td>0</td>\n",
       "    </tr>\n",
       "    <tr>\n",
       "      <th>118585</th>\n",
       "      <td>28.2</td>\n",
       "      <td>22.7</td>\n",
       "      <td>16.98</td>\n",
       "      <td>8.6</td>\n",
       "      <td>13.0</td>\n",
       "      <td>18.4</td>\n",
       "      <td>44.6</td>\n",
       "      <td>0</td>\n",
       "      <td>0</td>\n",
       "      <td>0</td>\n",
       "      <td>0</td>\n",
       "      <td>0</td>\n",
       "      <td>0</td>\n",
       "      <td>0</td>\n",
       "      <td>0</td>\n",
       "      <td>0</td>\n",
       "      <td>0</td>\n",
       "      <td>0</td>\n",
       "      <td>0</td>\n",
       "      <td>0</td>\n",
       "      <td>0</td>\n",
       "      <td>0</td>\n",
       "      <td>0</td>\n",
       "      <td>0</td>\n",
       "      <td>0</td>\n",
       "      <td>0</td>\n",
       "      <td>0</td>\n",
       "      <td>0</td>\n",
       "      <td>0</td>\n",
       "      <td>0</td>\n",
       "      <td>1</td>\n",
       "      <td>0</td>\n",
       "      <td>0</td>\n",
       "      <td>0</td>\n",
       "      <td>0</td>\n",
       "      <td>0</td>\n",
       "      <td>0</td>\n",
       "      <td>0</td>\n",
       "      <td>0</td>\n",
       "      <td>0</td>\n",
       "      <td>0</td>\n",
       "      <td>0</td>\n",
       "      <td>0</td>\n",
       "      <td>0</td>\n",
       "      <td>0</td>\n",
       "      <td>1</td>\n",
       "      <td>0</td>\n",
       "      <td>0</td>\n",
       "      <td>0</td>\n",
       "      <td>0</td>\n",
       "      <td>0</td>\n",
       "      <td>0</td>\n",
       "      <td>1</td>\n",
       "      <td>0</td>\n",
       "    </tr>\n",
       "    <tr>\n",
       "      <th>23944</th>\n",
       "      <td>29.1</td>\n",
       "      <td>24.3</td>\n",
       "      <td>19.54</td>\n",
       "      <td>7.6</td>\n",
       "      <td>17.0</td>\n",
       "      <td>11.3</td>\n",
       "      <td>27.4</td>\n",
       "      <td>0</td>\n",
       "      <td>0</td>\n",
       "      <td>0</td>\n",
       "      <td>0</td>\n",
       "      <td>0</td>\n",
       "      <td>0</td>\n",
       "      <td>0</td>\n",
       "      <td>0</td>\n",
       "      <td>0</td>\n",
       "      <td>0</td>\n",
       "      <td>0</td>\n",
       "      <td>0</td>\n",
       "      <td>0</td>\n",
       "      <td>0</td>\n",
       "      <td>0</td>\n",
       "      <td>1</td>\n",
       "      <td>0</td>\n",
       "      <td>0</td>\n",
       "      <td>0</td>\n",
       "      <td>0</td>\n",
       "      <td>0</td>\n",
       "      <td>0</td>\n",
       "      <td>0</td>\n",
       "      <td>0</td>\n",
       "      <td>0</td>\n",
       "      <td>0</td>\n",
       "      <td>0</td>\n",
       "      <td>0</td>\n",
       "      <td>0</td>\n",
       "      <td>0</td>\n",
       "      <td>0</td>\n",
       "      <td>0</td>\n",
       "      <td>0</td>\n",
       "      <td>0</td>\n",
       "      <td>0</td>\n",
       "      <td>0</td>\n",
       "      <td>0</td>\n",
       "      <td>0</td>\n",
       "      <td>0</td>\n",
       "      <td>1</td>\n",
       "      <td>0</td>\n",
       "      <td>0</td>\n",
       "      <td>0</td>\n",
       "      <td>0</td>\n",
       "      <td>0</td>\n",
       "      <td>1</td>\n",
       "      <td>0</td>\n",
       "    </tr>\n",
       "  </tbody>\n",
       "</table>\n",
       "</div>"
      ],
      "text/plain": [
       "        temperature_2m_max  temperature_2m_min  shortwave_radiation_sum  \\\n",
       "9789                  30.8                25.2                    16.47   \n",
       "7329                  29.2                25.6                    21.42   \n",
       "141361                32.5                25.1                    22.37   \n",
       "118585                28.2                22.7                    16.98   \n",
       "23944                 29.1                24.3                    19.54   \n",
       "\n",
       "        rain_sum  precipitation_hours  windspeed_10m_max  windgusts_10m_max  \\\n",
       "9789         9.1                 23.0               16.9               31.7   \n",
       "7329         2.8                 12.0               20.2               44.6   \n",
       "141361       0.0                  0.0               20.2               41.8   \n",
       "118585       8.6                 13.0               18.4               44.6   \n",
       "23944        7.6                 17.0               11.3               27.4   \n",
       "\n",
       "        city_Badulla  city_Bentota  city_Colombo  city_Galle  city_Gampaha  \\\n",
       "9789               0             0             0           0             0   \n",
       "7329               0             0             0           0             0   \n",
       "141361             0             0             0           0             0   \n",
       "118585             0             0             0           0             0   \n",
       "23944              0             0             0           0             0   \n",
       "\n",
       "        city_Hambantota  city_Hatton  city_Jaffna  city_Kalmunai  \\\n",
       "9789                  0            0            0              0   \n",
       "7329                  0            0            0              0   \n",
       "141361                1            0            0              0   \n",
       "118585                0            0            0              0   \n",
       "23944                 0            0            0              0   \n",
       "\n",
       "        city_Kalutara  city_Kandy  city_Kesbewa  city_Kolonnawa  \\\n",
       "9789                0           0             0               0   \n",
       "7329                0           0             0               0   \n",
       "141361              0           0             0               0   \n",
       "118585              0           0             0               0   \n",
       "23944               0           0             0               0   \n",
       "\n",
       "        city_Kurunegala  city_Mabole  city_Maharagama  city_Mannar  \\\n",
       "9789                  0            0                0            0   \n",
       "7329                  0            0                0            0   \n",
       "141361                0            0                0            0   \n",
       "118585                0            0                0            0   \n",
       "23944                 0            0                1            0   \n",
       "\n",
       "        city_Matale  city_Matara  city_Moratuwa  city_Mount Lavinia  \\\n",
       "9789              0            0              0                   1   \n",
       "7329              0            0              0                   1   \n",
       "141361            0            0              0                   0   \n",
       "118585            0            0              0                   0   \n",
       "23944             0            0              0                   0   \n",
       "\n",
       "        city_Negombo  city_Oruwala  city_Pothuhera  city_Puttalam  \\\n",
       "9789               0             0               0              0   \n",
       "7329               0             0               0              0   \n",
       "141361             0             0               0              0   \n",
       "118585             0             0               1              0   \n",
       "23944              0             0               0              0   \n",
       "\n",
       "        city_Ratnapura  city_Sri Jayewardenepura Kotte  city_Trincomalee  \\\n",
       "9789                 0                               0                 0   \n",
       "7329                 0                               0                 0   \n",
       "141361               0                               0                 0   \n",
       "118585               0                               0                 0   \n",
       "23944                0                               0                 0   \n",
       "\n",
       "        city_Weligama  month_10  month_11  month_12  month_2  month_3  \\\n",
       "9789                0         0         0         0        0        0   \n",
       "7329                0         0         0         0        0        0   \n",
       "141361              0         0         0         0        0        1   \n",
       "118585              0         0         0         0        0        0   \n",
       "23944               0         0         0         0        0        0   \n",
       "\n",
       "        month_4  month_5  month_6  month_7  month_8  month_9  \\\n",
       "9789          0        1        0        0        0        0   \n",
       "7329          0        0        0        0        1        0   \n",
       "141361        0        0        0        0        0        0   \n",
       "118585        0        0        0        0        1        0   \n",
       "23944         0        0        0        0        0        1   \n",
       "\n",
       "        Wind_direction_North  Wind_direction_Northeast  \\\n",
       "9789                       0                         0   \n",
       "7329                       0                         0   \n",
       "141361                     0                         0   \n",
       "118585                     0                         0   \n",
       "23944                      0                         0   \n",
       "\n",
       "        Wind_direction_Northwest  Wind_direction_South  \\\n",
       "9789                           0                     0   \n",
       "7329                           0                     0   \n",
       "141361                         0                     0   \n",
       "118585                         0                     0   \n",
       "23944                          0                     0   \n",
       "\n",
       "        Wind_direction_Southeast  Wind_direction_Southwest  \\\n",
       "9789                           0                         0   \n",
       "7329                           0                         0   \n",
       "141361                         0                         0   \n",
       "118585                         0                         1   \n",
       "23944                          0                         1   \n",
       "\n",
       "        Wind_direction_West  \n",
       "9789                      1  \n",
       "7329                      1  \n",
       "141361                    0  \n",
       "118585                    0  \n",
       "23944                     0  "
      ]
     },
     "execution_count": 24,
     "metadata": {},
     "output_type": "execute_result"
    }
   ],
   "source": [
    "x_train.head()"
   ]
  },
  {
   "cell_type": "code",
   "execution_count": 25,
   "metadata": {},
   "outputs": [
    {
     "data": {
      "text/plain": [
       "(117984, 54)"
      ]
     },
     "execution_count": 25,
     "metadata": {},
     "output_type": "execute_result"
    }
   ],
   "source": [
    "x_train.shape"
   ]
  },
  {
   "cell_type": "code",
   "execution_count": 26,
   "metadata": {
    "colab": {
     "base_uri": "https://localhost:8080/"
    },
    "id": "-f7Ep63ubSH3",
    "outputId": "1eecb6e0-b739-4bb9-fbd0-78e30210a1d8"
   },
   "outputs": [],
   "source": [
    "from sklearn.ensemble import RandomForestRegressor\n",
    "\n",
    "# Assuming df_train3 is your pandas DataFrame\n",
    "\n",
    "np.random.seed(12)\n",
    "# Create a Random Forest regressor\n",
    "rf = RandomForestRegressor()\n",
    "\n",
    "# Fit the Random Forest model\n",
    "rf.fit(X, y)\n",
    "\n",
    "# Get the feature importances\n",
    "importances = rf.feature_importances_\n",
    "\n",
    "# Sort the feature importances in descending order\n",
    "sorted_indices = importances.argsort()[::-1]\n",
    "\n",
    "# Select the top 30 most important features\n",
    "top_features = X.columns[sorted_indices[:25]].to_list()\n",
    "\n",
    "# Print the top 20 features\n",
    "#print(top_features)\n"
   ]
  },
  {
   "cell_type": "code",
   "execution_count": 27,
   "metadata": {
    "colab": {
     "base_uri": "https://localhost:8080/"
    },
    "id": "0JVKZK1QewzW",
    "outputId": "5f0062f3-7982-49f2-ecee-aeb66d6d2387"
   },
   "outputs": [
    {
     "name": "stdout",
     "output_type": "stream",
     "text": [
      "+--------------------------------+------------------------+\n",
      "|            Feature             |       Importance       |\n",
      "+--------------------------------+------------------------+\n",
      "|            rain_sum            |   0.504583504807484    |\n",
      "|      precipitation_hours       |  0.49095822614858703   |\n",
      "|    shortwave_radiation_sum     | 0.0009209638472036783  |\n",
      "|       windspeed_10m_max        | 0.0007236286405892145  |\n",
      "|       windgusts_10m_max        | 0.0007048140290922822  |\n",
      "|       temperature_2m_max       | 0.0004383567657722477  |\n",
      "|       temperature_2m_min       | 0.00043192907244833835 |\n",
      "|      Wind_direction_South      | 6.739118743104229e-05  |\n",
      "|    Wind_direction_Southwest    | 6.520259837277088e-05  |\n",
      "|      Wind_direction_West       | 5.841164503593098e-05  |\n",
      "|            month_7             | 5.703744532117465e-05  |\n",
      "|            month_5             | 5.613069496895906e-05  |\n",
      "|            month_10            | 5.5413731436229495e-05 |\n",
      "|            month_4             | 5.532909079106309e-05  |\n",
      "|            month_6             | 5.476705300899761e-05  |\n",
      "|            month_9             | 5.127007559103554e-05  |\n",
      "|            month_8             |  5.00886833397433e-05  |\n",
      "|            month_12            | 4.5737393714450655e-05 |\n",
      "|      Wind_direction_North      | 4.476674666797488e-05  |\n",
      "|            month_11            | 4.474781431587019e-05  |\n",
      "|    Wind_direction_Northeast    | 3.914029857408001e-05  |\n",
      "|            month_2             | 3.787578550086905e-05  |\n",
      "|            month_3             | 3.760354718207833e-05  |\n",
      "|         city_Puttalam          | 3.666260243039253e-05  |\n",
      "|         city_Ratnapura         | 3.166109402890592e-05  |\n",
      "|        city_Hambantota         | 2.940646094083665e-05  |\n",
      "|          city_Matale           | 2.9349756272075478e-05 |\n",
      "|    Wind_direction_Northwest    | 2.8384020526349102e-05 |\n",
      "|         city_Kalmunai          | 2.4532086449547748e-05 |\n",
      "|        city_Trincomalee        | 2.4055474878538662e-05 |\n",
      "|          city_Mannar           | 2.3928068750044237e-05 |\n",
      "|    Wind_direction_Southeast    | 2.3556554962405098e-05 |\n",
      "|         city_Pothuhera         | 2.1607331597614793e-05 |\n",
      "|        city_Kurunegala         | 2.0992485294748284e-05 |\n",
      "|           city_Kandy           | 1.9914259619955572e-05 |\n",
      "|          city_Jaffna           | 1.888838803550306e-05  |\n",
      "|          city_Badulla          | 1.6089636330012325e-05 |\n",
      "|           city_Galle           | 1.2275022074020688e-05 |\n",
      "|         city_Weligama          | 9.788600132930027e-06  |\n",
      "|          city_Matara           | 9.631352429082779e-06  |\n",
      "|          city_Hatton           | 5.452661947337175e-06  |\n",
      "|          city_Bentota          | 3.852586068540062e-06  |\n",
      "|          city_Oruwala          | 3.789802229269044e-06  |\n",
      "|         city_Kalutara          | 3.187095878338941e-06  |\n",
      "|          city_Negombo          | 2.771819166366294e-06  |\n",
      "|          city_Colombo          | 2.5607027208931005e-06 |\n",
      "|       city_Mount Lavinia       | 2.4809568701395174e-06 |\n",
      "|          city_Gampaha          | 2.3114737763595845e-06 |\n",
      "|        city_Maharagama         | 2.0529097868883025e-06 |\n",
      "|         city_Moratuwa          | 1.8251725391056321e-06 |\n",
      "|          city_Mabole           | 1.7845175315332875e-06 |\n",
      "| city_Sri Jayewardenepura Kotte | 1.7117635220247735e-06 |\n",
      "|         city_Kolonnawa         | 1.5997845446742602e-06 |\n",
      "|          city_Kesbewa          | 1.5584562364571207e-06 |\n",
      "+--------------------------------+------------------------+\n"
     ]
    }
   ],
   "source": [
    "from prettytable import PrettyTable\n",
    "\n",
    "# Create a table of importances\n",
    "table = PrettyTable()\n",
    "table.field_names = [\"Feature\", \"Importance\"]\n",
    "\n",
    "# Populate the table with feature names and their importance values\n",
    "for feature, importance in zip(X.columns[sorted_indices], importances[sorted_indices]):\n",
    "    table.add_row([feature, importance])\n",
    "\n",
    "# Print the table\n",
    "print(table)"
   ]
  },
  {
   "cell_type": "code",
   "execution_count": 17,
   "metadata": {
    "colab": {
     "base_uri": "https://localhost:8080/"
    },
    "id": "LEZjxVzKgHBo",
    "outputId": "ab63fe89-becf-4a35-fd83-dd7f534fa96f"
   },
   "outputs": [
    {
     "name": "stdout",
     "output_type": "stream",
     "text": [
      "temperature_2m_max                18.963161\n",
      "temperature_2m_min                19.422585\n",
      "temperature_2m_mean               52.698840\n",
      "shortwave_radiation_sum           14.613799\n",
      "rain_sum                           1.860026\n",
      "precipitation_hours                3.576459\n",
      "windspeed_10m_max                 11.545794\n",
      "windgusts_10m_max                  8.256184\n",
      "et0_fao_evapotranspiration        29.555893\n",
      "city_Badulla                       3.328669\n",
      "city_Bentota                       1.987266\n",
      "city_Colombo                       1.965219\n",
      "city_Galle                         2.152198\n",
      "city_Gampaha                       1.944783\n",
      "city_Hambantota                    2.167180\n",
      "city_Hatton                        5.794673\n",
      "city_Jaffna                        3.307045\n",
      "city_Kalmunai                      2.399611\n",
      "city_Kalutara                      1.966395\n",
      "city_Kandy                         3.008072\n",
      "city_Kesbewa                       1.960428\n",
      "city_Kolonnawa                     1.937277\n",
      "city_Kurunegala                    2.160249\n",
      "city_Mabole                        1.930382\n",
      "city_Maharagama                    1.962943\n",
      "city_Mannar                        2.663270\n",
      "city_Matale                        2.395772\n",
      "city_Matara                        2.146708\n",
      "city_Moratuwa                      1.968499\n",
      "city_Mount Lavinia                 1.969065\n",
      "city_Negombo                       1.948908\n",
      "city_Oruwala                       1.953062\n",
      "city_Pothuhera                     2.208057\n",
      "city_Puttalam                      2.032542\n",
      "city_Ratnapura                     2.200310\n",
      "city_Sri Jayewardenepura Kotte     1.933679\n",
      "city_Trincomalee                   2.542848\n",
      "city_Weligama                      2.170531\n",
      "month_10                           2.599444\n",
      "month_11                           2.043052\n",
      "month_12                           1.861838\n",
      "month_2                            1.858206\n",
      "month_3                            2.538272\n",
      "month_4                            3.133349\n",
      "month_5                            3.667975\n",
      "month_6                            3.569297\n",
      "month_7                            3.256320\n",
      "month_8                            3.143027\n",
      "month_9                            2.908599\n",
      "Wind_direction_North               2.766373\n",
      "Wind_direction_Northeast           3.224687\n",
      "Wind_direction_Northwest           1.699742\n",
      "Wind_direction_South               2.953050\n",
      "Wind_direction_Southeast           1.551830\n",
      "Wind_direction_Southwest           5.984406\n",
      "Wind_direction_West                4.403597\n",
      "dtype: float64\n"
     ]
    }
   ],
   "source": [
    "from statsmodels.stats.outliers_influence import variance_inflation_factor\n",
    "from sklearn.preprocessing import StandardScaler\n",
    "\n",
    "# Scale the independent variables\n",
    "scaler = StandardScaler()\n",
    "x_train_scaled = scaler.fit_transform(x_train)\n",
    "\n",
    "# Convert the NumPy array x_train_scaled to a pandas DataFrame\n",
    "x_train_scaled_df = pd.DataFrame(x_train_scaled, columns=x_train.columns)\n",
    "\n",
    "# Calculate the VIF values for each independent variable\n",
    "vif = pd.Series([variance_inflation_factor(x_train_scaled_df.values, i) for i in range(x_train_scaled_df.shape[1])], index=x_train_scaled_df.columns)\n",
    "\n",
    "# Print the VIF values\n",
    "print(vif)\n",
    "\n"
   ]
  },
  {
   "cell_type": "markdown",
   "metadata": {},
   "source": [
    "### Base random forest model"
   ]
  },
  {
   "cell_type": "code",
   "execution_count": 29,
   "metadata": {
    "id": "bu1FURNIgsuQ"
   },
   "outputs": [],
   "source": [
    "from sklearn.ensemble import RandomForestClassifier\n",
    "from sklearn.metrics import accuracy_score\n",
    "from imblearn.ensemble import BalancedRandomForestClassifier"
   ]
  },
  {
   "cell_type": "code",
   "execution_count": 30,
   "metadata": {
    "colab": {
     "base_uri": "https://localhost:8080/",
     "height": 74
    },
    "id": "VtcuvLd5gvsn",
    "outputId": "e7f1847b-4f67-4abd-e76f-f3253ebc4d63"
   },
   "outputs": [
    {
     "data": {
      "text/plain": [
       "RandomForestClassifier()"
      ]
     },
     "execution_count": 30,
     "metadata": {},
     "output_type": "execute_result"
    }
   ],
   "source": [
    "rf = RandomForestClassifier()\n",
    "rf.fit(x_train,y_train)"
   ]
  },
  {
   "cell_type": "code",
   "execution_count": 31,
   "metadata": {},
   "outputs": [
    {
     "data": {
      "text/plain": [
       "{'bootstrap': True,\n",
       " 'ccp_alpha': 0.0,\n",
       " 'class_weight': None,\n",
       " 'criterion': 'gini',\n",
       " 'max_depth': None,\n",
       " 'max_features': 'auto',\n",
       " 'max_leaf_nodes': None,\n",
       " 'max_samples': None,\n",
       " 'min_impurity_decrease': 0.0,\n",
       " 'min_samples_leaf': 1,\n",
       " 'min_samples_split': 2,\n",
       " 'min_weight_fraction_leaf': 0.0,\n",
       " 'n_estimators': 100,\n",
       " 'n_jobs': None,\n",
       " 'oob_score': False,\n",
       " 'random_state': None,\n",
       " 'verbose': 0,\n",
       " 'warm_start': False}"
      ]
     },
     "execution_count": 31,
     "metadata": {},
     "output_type": "execute_result"
    }
   ],
   "source": [
    "rf.get_params()"
   ]
  },
  {
   "cell_type": "code",
   "execution_count": 32,
   "metadata": {
    "colab": {
     "base_uri": "https://localhost:8080/"
    },
    "id": "mLQ1YlHNjGgl",
    "outputId": "15057d44-36ca-4783-f92f-2a851e95bbb5"
   },
   "outputs": [
    {
     "name": "stdout",
     "output_type": "stream",
     "text": [
      "Train Accuracy: 1.0\n"
     ]
    }
   ],
   "source": [
    "#for rf model\n",
    "y_pred_rf_train = rf.predict(x_train)\n",
    "\n",
    "# Calculate the accuracy score\n",
    "accuracy = accuracy_score(y_train, y_pred_rf_train)\n",
    "\n",
    "# Print the accuracy score\n",
    "print(\"Train Accuracy:\", accuracy)"
   ]
  },
  {
   "cell_type": "code",
   "execution_count": 19,
   "metadata": {},
   "outputs": [],
   "source": [
    "#Creating a function to check accuracy\n",
    "from sklearn.metrics import accuracy_score, precision_score, recall_score, f1_score\n",
    "\n",
    "def calculate_classification_metrics(y_true, y_pred):\n",
    "    precision = precision_score(y_true, y_pred, average='weighted')\n",
    "    recall = recall_score(y_true, y_pred, average='weighted')\n",
    "    f1 = f1_score(y_true, y_pred, average='weighted')\n",
    "    \n",
    "    print(f'Precision: {precision:.4f}')\n",
    "    print(f'Recall: {recall:.4f}')\n",
    "    print(f'F1-Score: {f1:.4f}')\n",
    "    \n",
    "    return\n",
    "calculate_classification_metrics(y_train, y_pred_rf_train)"
   ]
  },
  {
   "cell_type": "code",
   "execution_count": 34,
   "metadata": {
    "colab": {
     "base_uri": "https://localhost:8080/"
    },
    "id": "NZZn_t09jYF0",
    "outputId": "cdff08cf-7337-4d95-9b30-a91bc2726094"
   },
   "outputs": [
    {
     "name": "stdout",
     "output_type": "stream",
     "text": [
      "Test Accuracy: 0.8540141036072688\n"
     ]
    }
   ],
   "source": [
    "#For rf model\n",
    "y_pred_rf_test = rf.predict(x_test)\n",
    "\n",
    "# Calculate the accuracy score\n",
    "accuracy = accuracy_score(y_test, y_pred_rf_test)\n",
    "\n",
    "# Print the accuracy score\n",
    "print(\"Test Accuracy:\", accuracy)"
   ]
  },
  {
   "cell_type": "code",
   "execution_count": 35,
   "metadata": {},
   "outputs": [
    {
     "name": "stdout",
     "output_type": "stream",
     "text": [
      "Precision: 0.8569\n",
      "Recall: 0.8540\n",
      "F1-Score: 0.8510\n"
     ]
    }
   ],
   "source": [
    "#Checking accuracies\n",
    "\n",
    "calculate_classification_metrics(y_test, y_pred_rf_test)\n"
   ]
  },
  {
   "cell_type": "code",
   "execution_count": 15,
   "metadata": {},
   "outputs": [
    {
     "data": {
      "text/plain": [
       "DecisionTreeClassifier()"
      ]
     },
     "execution_count": 15,
     "metadata": {},
     "output_type": "execute_result"
    }
   ],
   "source": [
    "from sklearn.model_selection import cross_val_score\n",
    "from sklearn.tree import DecisionTreeClassifier\n",
    "\n",
    "dtc = DecisionTreeClassifier()\n",
    "dtc.fit(x_train,y_train)\n",
    "\n"
   ]
  },
  {
   "cell_type": "code",
   "execution_count": 17,
   "metadata": {},
   "outputs": [
    {
     "name": "stdout",
     "output_type": "stream",
     "text": [
      "Train Accuracy: 1.0\n"
     ]
    }
   ],
   "source": [
    "from sklearn.metrics import accuracy_score, precision_score, recall_score, f1_score\n",
    "#for rf model\n",
    "y_pred_dtc_train = dtc.predict(x_train)\n",
    "\n",
    "# Calculate the accuracy score\n",
    "accuracy = accuracy_score(y_train, y_pred_dtc_train)\n",
    "\n",
    "# Print the accuracy score\n",
    "print(\"Train Accuracy:\", accuracy)"
   ]
  },
  {
   "cell_type": "code",
   "execution_count": 18,
   "metadata": {},
   "outputs": [
    {
     "name": "stdout",
     "output_type": "stream",
     "text": [
      "Test Accuracy: 0.8282139951179821\n"
     ]
    }
   ],
   "source": [
    "#For rf model\n",
    "y_pred_dtc_test = dtc.predict(x_test)\n",
    "\n",
    "# Calculate the accuracy score\n",
    "accuracy = accuracy_score(y_test, y_pred_dtc_test)\n",
    "\n",
    "# Print the accuracy score\n",
    "print(\"Test Accuracy:\", accuracy)"
   ]
  },
  {
   "cell_type": "code",
   "execution_count": 20,
   "metadata": {},
   "outputs": [
    {
     "name": "stdout",
     "output_type": "stream",
     "text": [
      "Precision: 0.8286\n",
      "Recall: 0.8282\n",
      "F1-Score: 0.8283\n"
     ]
    }
   ],
   "source": [
    "calculate_classification_metrics(y_test, y_pred_dtc_test)"
   ]
  },
  {
   "cell_type": "markdown",
   "metadata": {},
   "source": [
    "### It seems to be overfitting"
   ]
  },
  {
   "cell_type": "markdown",
   "metadata": {},
   "source": [
    "## Handling imbalace"
   ]
  },
  {
   "cell_type": "code",
   "execution_count": 36,
   "metadata": {},
   "outputs": [
    {
     "data": {
      "text/plain": [
       "51    30105\n",
       "63    22014\n",
       "61    18147\n",
       "53    17730\n",
       "2      8387\n",
       "1      7555\n",
       "55     6198\n",
       "3      4689\n",
       "65     2344\n",
       "0       815\n",
       "Name: weathercode, dtype: int64"
      ]
     },
     "execution_count": 36,
     "metadata": {},
     "output_type": "execute_result"
    }
   ],
   "source": [
    "y_train.value_counts()"
   ]
  },
  {
   "cell_type": "code",
   "execution_count": 37,
   "metadata": {},
   "outputs": [],
   "source": [
    "from imblearn.under_sampling import RandomUnderSampler\n",
    "from imblearn.over_sampling import RandomOverSampler\n",
    "from imblearn.over_sampling import SMOTE\n",
    "from imblearn.pipeline import Pipeline\n",
    "from sklearn.metrics import roc_auc_score\n",
    "import warnings\n",
    "warnings.simplefilter(action='ignore', category=FutureWarning)"
   ]
  },
  {
   "cell_type": "code",
   "execution_count": 38,
   "metadata": {},
   "outputs": [],
   "source": [
    "from sklearn.model_selection import train_test_split\n",
    "from sklearn.ensemble import RandomForestClassifier\n",
    "from sklearn.metrics import accuracy_score\n",
    "from imblearn.over_sampling import RandomOverSampler\n",
    "from imblearn.under_sampling import RandomUnderSampler\n",
    "from imblearn.over_sampling import SMOTE\n",
    "\n",
    "def balance_and_evaluate():\n",
    "   \n",
    "    # Lists to store evaluation metrics\n",
    "    techniques = []\n",
    "    accuracies = []\n",
    "    precisions = []\n",
    "    recalls = []\n",
    "    f1_scores = []\n",
    "    \n",
    "    # Balancing techniques\n",
    "    samplers = {\n",
    "        'Oversampling': RandomOverSampler(random_state=42),\n",
    "        'Undersampling': RandomUnderSampler(random_state=42),\n",
    "        'SMOTE': SMOTE(random_state=42)\n",
    "    }\n",
    "    \n",
    "    # Train and evaluate Random Forest classifiers using different balancing techniques\n",
    "    for technique, sampler in samplers.items():\n",
    "        # Resample the training data using the sampler\n",
    "        X_resampled, y_resampled = sampler.fit_resample(x_train, y_train)\n",
    "        \n",
    "        # Train the Random Forest classifier\n",
    "        rf_classifier = RandomForestClassifier(random_state=42)\n",
    "        rf_classifier.fit(X_resampled, y_resampled)\n",
    "        \n",
    "        # Predict on the test set\n",
    "        y_pred = rf_classifier.predict(x_test)\n",
    "        \n",
    "        # Calculate evaluation metrics\n",
    "        accuracy = accuracy_score(y_test, y_pred)\n",
    "        precision = precision_score(y_test, y_pred, average='weighted')\n",
    "        recall = recall_score(y_test, y_pred, average='weighted')\n",
    "        f1 = f1_score(y_test, y_pred, average='weighted')\n",
    "        \n",
    "        # Store metrics in lists\n",
    "        techniques.append(technique)\n",
    "        accuracies.append(accuracy)\n",
    "        precisions.append(precision)\n",
    "        recalls.append(recall)\n",
    "        f1_scores.append(f1)\n",
    "    \n",
    "        # Create a DataFrame to store the metrics\n",
    "        metrics_df = pd.DataFrame({\n",
    "            'Technique': techniques,\n",
    "            'Accuracy': accuracies,\n",
    "            'Precision': precisions,\n",
    "            'Recall': recalls,\n",
    "            'F1-Score': f1_scores\n",
    "        })\n",
    "\n",
    "    return metrics_df\n"
   ]
  },
  {
   "cell_type": "code",
   "execution_count": 39,
   "metadata": {},
   "outputs": [
    {
     "data": {
      "text/html": [
       "<div>\n",
       "<style scoped>\n",
       "    .dataframe tbody tr th:only-of-type {\n",
       "        vertical-align: middle;\n",
       "    }\n",
       "\n",
       "    .dataframe tbody tr th {\n",
       "        vertical-align: top;\n",
       "    }\n",
       "\n",
       "    .dataframe thead th {\n",
       "        text-align: right;\n",
       "    }\n",
       "</style>\n",
       "<table border=\"1\" class=\"dataframe\">\n",
       "  <thead>\n",
       "    <tr style=\"text-align: right;\">\n",
       "      <th></th>\n",
       "      <th>Technique</th>\n",
       "      <th>Accuracy</th>\n",
       "      <th>Precision</th>\n",
       "      <th>Recall</th>\n",
       "      <th>F1-Score</th>\n",
       "    </tr>\n",
       "  </thead>\n",
       "  <tbody>\n",
       "    <tr>\n",
       "      <th>0</th>\n",
       "      <td>Oversampling</td>\n",
       "      <td>0.853743</td>\n",
       "      <td>0.854770</td>\n",
       "      <td>0.853743</td>\n",
       "      <td>0.852278</td>\n",
       "    </tr>\n",
       "    <tr>\n",
       "      <th>1</th>\n",
       "      <td>Undersampling</td>\n",
       "      <td>0.616355</td>\n",
       "      <td>0.656118</td>\n",
       "      <td>0.616355</td>\n",
       "      <td>0.626588</td>\n",
       "    </tr>\n",
       "    <tr>\n",
       "      <th>2</th>\n",
       "      <td>SMOTE</td>\n",
       "      <td>0.850149</td>\n",
       "      <td>0.849638</td>\n",
       "      <td>0.850149</td>\n",
       "      <td>0.849347</td>\n",
       "    </tr>\n",
       "  </tbody>\n",
       "</table>\n",
       "</div>"
      ],
      "text/plain": [
       "       Technique  Accuracy  Precision    Recall  F1-Score\n",
       "0   Oversampling  0.853743   0.854770  0.853743  0.852278\n",
       "1  Undersampling  0.616355   0.656118  0.616355  0.626588\n",
       "2          SMOTE  0.850149   0.849638  0.850149  0.849347"
      ]
     },
     "execution_count": 39,
     "metadata": {},
     "output_type": "execute_result"
    }
   ],
   "source": [
    "balance_and_evaluate()"
   ]
  },
  {
   "cell_type": "code",
   "execution_count": 40,
   "metadata": {},
   "outputs": [],
   "source": [
    "from sklearn.model_selection import train_test_split\n",
    "from sklearn.ensemble import RandomForestClassifier\n",
    "from sklearn.metrics import accuracy_score\n",
    "from imblearn.over_sampling import RandomOverSampler\n",
    "from imblearn.under_sampling import RandomUnderSampler\n",
    "from imblearn.over_sampling import SMOTE\n",
    "\n",
    "def balance_and_evaluate2():\n",
    "   \n",
    "    # Lists to store evaluation metrics\n",
    "    techniques = []\n",
    "    accuracies = []\n",
    "    precisions = []\n",
    "    recalls = []\n",
    "    f1_scores = []\n",
    "    \n",
    "    # Balancing techniques\n",
    "    samplers = {\n",
    "        'Oversampling': RandomOverSampler(random_state=42),\n",
    "        'Undersampling': RandomUnderSampler(random_state=42),\n",
    "        'SMOTE': SMOTE(random_state=42)\n",
    "    }\n",
    "    \n",
    "    # Train and evaluate Random Forest classifiers using different balancing techniques\n",
    "    for technique, sampler in samplers.items():\n",
    "        # Resample the training data using the sampler\n",
    "        X_resampled, y_resampled = sampler.fit_resample(x_train, y_train)\n",
    "        \n",
    "        # Train the Random Forest classifier\n",
    "        rf_classifier = RandomForestClassifier(random_state=42)\n",
    "        rf_classifier.fit(X_resampled, y_resampled)\n",
    "        \n",
    "        # Predict on the test set\n",
    "        y_pred_train = rf_classifier.predict(X_resampled)\n",
    "        \n",
    "        # Calculate evaluation metrics\n",
    "        accuracy = accuracy_score(y_resampled, y_pred_train)\n",
    "        precision = precision_score(y_resampled, y_pred_train, average='weighted')\n",
    "        recall = recall_score(y_resampled, y_pred_train, average='weighted')\n",
    "        f1 = f1_score(y_resampled, y_pred_train, average='weighted')\n",
    "        \n",
    "        # Store metrics in lists\n",
    "        techniques.append(technique)\n",
    "        accuracies.append(accuracy)\n",
    "        precisions.append(precision)\n",
    "        recalls.append(recall)\n",
    "        f1_scores.append(f1)\n",
    "    \n",
    "        # Create a DataFrame to store the metrics\n",
    "        metrics_df = pd.DataFrame({\n",
    "            'Technique': techniques,\n",
    "            'Accuracy': accuracies,\n",
    "            'Precision': precisions,\n",
    "            'Recall': recalls,\n",
    "            'F1-Score': f1_scores\n",
    "        })\n",
    "\n",
    "    return metrics_df\n"
   ]
  },
  {
   "cell_type": "code",
   "execution_count": 41,
   "metadata": {},
   "outputs": [
    {
     "data": {
      "text/html": [
       "<div>\n",
       "<style scoped>\n",
       "    .dataframe tbody tr th:only-of-type {\n",
       "        vertical-align: middle;\n",
       "    }\n",
       "\n",
       "    .dataframe tbody tr th {\n",
       "        vertical-align: top;\n",
       "    }\n",
       "\n",
       "    .dataframe thead th {\n",
       "        text-align: right;\n",
       "    }\n",
       "</style>\n",
       "<table border=\"1\" class=\"dataframe\">\n",
       "  <thead>\n",
       "    <tr style=\"text-align: right;\">\n",
       "      <th></th>\n",
       "      <th>Technique</th>\n",
       "      <th>Accuracy</th>\n",
       "      <th>Precision</th>\n",
       "      <th>Recall</th>\n",
       "      <th>F1-Score</th>\n",
       "    </tr>\n",
       "  </thead>\n",
       "  <tbody>\n",
       "    <tr>\n",
       "      <th>0</th>\n",
       "      <td>Oversampling</td>\n",
       "      <td>1.0</td>\n",
       "      <td>1.0</td>\n",
       "      <td>1.0</td>\n",
       "      <td>1.0</td>\n",
       "    </tr>\n",
       "    <tr>\n",
       "      <th>1</th>\n",
       "      <td>Undersampling</td>\n",
       "      <td>1.0</td>\n",
       "      <td>1.0</td>\n",
       "      <td>1.0</td>\n",
       "      <td>1.0</td>\n",
       "    </tr>\n",
       "    <tr>\n",
       "      <th>2</th>\n",
       "      <td>SMOTE</td>\n",
       "      <td>1.0</td>\n",
       "      <td>1.0</td>\n",
       "      <td>1.0</td>\n",
       "      <td>1.0</td>\n",
       "    </tr>\n",
       "  </tbody>\n",
       "</table>\n",
       "</div>"
      ],
      "text/plain": [
       "       Technique  Accuracy  Precision  Recall  F1-Score\n",
       "0   Oversampling       1.0        1.0     1.0       1.0\n",
       "1  Undersampling       1.0        1.0     1.0       1.0\n",
       "2          SMOTE       1.0        1.0     1.0       1.0"
      ]
     },
     "execution_count": 41,
     "metadata": {},
     "output_type": "execute_result"
    }
   ],
   "source": [
    "balance_and_evaluate2()"
   ]
  },
  {
   "cell_type": "markdown",
   "metadata": {},
   "source": [
    "## Bagging"
   ]
  },
  {
   "cell_type": "code",
   "execution_count": 42,
   "metadata": {},
   "outputs": [
    {
     "data": {
      "text/plain": [
       "0.7552685109845403"
      ]
     },
     "execution_count": 42,
     "metadata": {},
     "output_type": "execute_result"
    }
   ],
   "source": [
    "from sklearn.ensemble import RandomForestClassifier\n",
    "\n",
    "scores = cross_val_score(RandomForestClassifier(n_estimators=50), X, y, cv=5)\n",
    "scores.mean()"
   ]
  },
  {
   "cell_type": "code",
   "execution_count": null,
   "metadata": {},
   "outputs": [],
   "source": [
    "scores = cross_val_score(bag_model, X, y, cv=5)\n",
    "scores.mean()"
   ]
  },
  {
   "cell_type": "code",
   "execution_count": null,
   "metadata": {},
   "outputs": [],
   "source": [
    "bag_model.score(x_test, y_test)"
   ]
  },
  {
   "cell_type": "code",
   "execution_count": 25,
   "metadata": {},
   "outputs": [
    {
     "data": {
      "text/plain": [
       "0.8227132550940507"
      ]
     },
     "execution_count": 25,
     "metadata": {},
     "output_type": "execute_result"
    }
   ],
   "source": [
    "from sklearn.model_selection import cross_val_score\n",
    "from sklearn.tree import DecisionTreeClassifier\n",
    "\n",
    "scores = cross_val_score(DecisionTreeClassifier(), x_train, y_train, cv=5)\n",
    "scores.mean()"
   ]
  },
  {
   "cell_type": "code",
   "execution_count": 21,
   "metadata": {},
   "outputs": [
    {
     "name": "stdout",
     "output_type": "stream",
     "text": [
      "0.8706943314347708\n"
     ]
    }
   ],
   "source": [
    "from sklearn.ensemble import BaggingClassifier\n",
    "\n",
    "bag_model = BaggingClassifier(\n",
    "    base_estimator=DecisionTreeClassifier(), \n",
    "    n_estimators=100, \n",
    "    max_samples=0.8, \n",
    "    oob_score=True,\n",
    "    random_state=0\n",
    ")\n",
    "y_pred_bag = bag_model.fit(x_train, y_train)\n",
    "print(bag_model.oob_score_)"
   ]
  },
  {
   "cell_type": "code",
   "execution_count": 22,
   "metadata": {},
   "outputs": [
    {
     "data": {
      "text/plain": [
       "0.8686262544073773"
      ]
     },
     "execution_count": 22,
     "metadata": {},
     "output_type": "execute_result"
    }
   ],
   "source": [
    "bag_model.score(x_test, y_test)"
   ]
  },
  {
   "cell_type": "code",
   "execution_count": 23,
   "metadata": {},
   "outputs": [],
   "source": [
    "y_pred_dtc_bag = bag_model.predict(x_test)"
   ]
  },
  {
   "cell_type": "code",
   "execution_count": 26,
   "metadata": {},
   "outputs": [
    {
     "name": "stdout",
     "output_type": "stream",
     "text": [
      "Precision: 0.8694\n",
      "Recall: 0.8686\n",
      "F1-Score: 0.8673\n"
     ]
    }
   ],
   "source": [
    "calculate_classification_metrics(y_test, y_pred_dtc_bag)"
   ]
  },
  {
   "cell_type": "code",
   "execution_count": 57,
   "metadata": {},
   "outputs": [
    {
     "data": {
      "text/plain": [
       "array([0.89405343, 0.79353133, 0.82807838, 0.78875102, 0.78251288])"
      ]
     },
     "execution_count": 57,
     "metadata": {},
     "output_type": "execute_result"
    }
   ],
   "source": [
    "bag_model = BaggingClassifier(\n",
    "    base_estimator=DecisionTreeClassifier(), \n",
    "    n_estimators=100, \n",
    "    max_samples=0.8, \n",
    "    oob_score=True,\n",
    "    random_state=0\n",
    ")\n",
    "scores = cross_val_score(bag_model, X, y, cv=5)\n",
    "scores"
   ]
  },
  {
   "cell_type": "raw",
   "metadata": {},
   "source": [
    "### Random forest for  selected  top features"
   ]
  },
  {
   "cell_type": "raw",
   "metadata": {
    "id": "AbN-P7KmjzVZ"
   },
   "source": [
    "# Take top 20 features from feature importances to fit model\n",
    "X_train = x_train[top_features]\n",
    "X_test = x_test[top_features]"
   ]
  },
  {
   "cell_type": "raw",
   "metadata": {
    "colab": {
     "base_uri": "https://localhost:8080/",
     "height": 74
    },
    "id": "T-Pu5wY5j_tZ",
    "outputId": "8bc47695-e73f-4601-814a-f21558ff88ac"
   },
   "source": [
    "rf2 = RandomForestClassifier()\n",
    "rf2.fit(X_train,y_train)"
   ]
  },
  {
   "cell_type": "raw",
   "metadata": {
    "colab": {
     "base_uri": "https://localhost:8080/"
    },
    "id": "1vWgA_wWkEe1",
    "outputId": "fd901bab-41ba-47b4-a1e9-ceb2f19d521a"
   },
   "source": [
    "#For rf2 model\n",
    "y_pred_rf_train2 = rf2.predict(X_train)\n",
    "\n",
    "# Calculate the accuracy score\n",
    "accuracy = accuracy_score(y_train, y_pred_rf_train2)\n",
    "\n",
    "# Print the accuracy score\n",
    "print(\"Train Accuracy:\", accuracy)"
   ]
  },
  {
   "cell_type": "raw",
   "metadata": {
    "colab": {
     "base_uri": "https://localhost:8080/"
    },
    "id": "FtukVuoyiP8j",
    "outputId": "13e92146-60b3-41fc-85d1-4cbdfa334677"
   },
   "source": [
    "#For rf2 model\n",
    "from sklearn.metrics import precision_score, recall_score, f1_score\n",
    "\n",
    "precision = precision_score(y_train, y_pred_rf_train2, average='weighted')\n",
    "recall = recall_score(y_train, y_pred_rf_train2, average='weighted')\n",
    "f1 = f1_score(y_train, y_pred_rf_train2, average='weighted')\n",
    "\n",
    "print(f'Precision: {precision:.2f}')\n",
    "print(f'Recall: {recall:.2f}')\n",
    "print(f'F1-Score: {f1:.2f}')\n"
   ]
  },
  {
   "cell_type": "raw",
   "metadata": {
    "colab": {
     "base_uri": "https://localhost:8080/"
    },
    "id": "BTZDcd5JkKV1",
    "outputId": "f8045368-4dbd-46fe-a6f8-7f5e1df653b3"
   },
   "source": [
    "#For rf2 model\n",
    "y_pred_rf_test2 = rf2.predict(X_test)\n",
    "\n",
    "# Calculate the accuracy score\n",
    "accuracy = accuracy_score(y_test, y_pred_rf_test2)\n",
    "\n",
    "# Print the accuracy score\n",
    "print(\"Test Accuracy:\", accuracy)"
   ]
  },
  {
   "cell_type": "markdown",
   "metadata": {
    "id": "1AGq_pJpDG2U"
   },
   "source": [
    "## Cross Validation"
   ]
  },
  {
   "cell_type": "raw",
   "metadata": {
    "colab": {
     "base_uri": "https://localhost:8080/"
    },
    "id": "Jlah4rewkgsr",
    "outputId": "c99f26a9-17ad-4796-bd3b-08fb3001e461"
   },
   "source": [
    "from sklearn.model_selection import cross_val_score\n",
    "from sklearn.ensemble import RandomForestClassifier\n",
    "\n",
    "# Perform cross-validation\n",
    "cross_val_scores = cross_val_score(rf,x_train,y_train, cv=5)  # 5-fold cross-validation\n",
    "\n",
    "# Print cross-validation scores\n",
    "print(\"Cross-Validation Scores:\", cross_val_scores)\n",
    "print(\"Mean Cross-Validation Score:\", cross_val_scores.mean())\n"
   ]
  },
  {
   "cell_type": "markdown",
   "metadata": {},
   "source": [
    "## Grid Search CV for hyperparameter tuning"
   ]
  },
  {
   "cell_type": "code",
   "execution_count": 44,
   "metadata": {
    "id": "MXAwbBBjDjcC"
   },
   "outputs": [],
   "source": [
    "# Number of trees in random forest\n",
    "n_estimators = [int(x) for x in np.linspace(start = 40, stop = 100, num = 10)]\n",
    "# Number of features to consider at every split\n",
    "max_features = ['auto', 'sqrt']\n",
    "# Maximum number of levels in tree\n",
    "max_depth = [2,4]\n",
    "# Minimum number of samples required to split a node\n",
    "min_samples_split = [2, 5]\n",
    "# Minimum number of samples required at each leaf node\n",
    "min_samples_leaf = [1, 2]\n",
    "# Method of selecting samples for training each tree\n",
    "bootstrap = [True, False]"
   ]
  },
  {
   "cell_type": "code",
   "execution_count": 45,
   "metadata": {
    "id": "ENYTa49HN4jA"
   },
   "outputs": [],
   "source": [
    "# Create the param grid\n",
    "param_grid = {'n_estimators': n_estimators,\n",
    "               'max_features': max_features,\n",
    "               'max_depth': max_depth,\n",
    "               'min_samples_split': min_samples_split,\n",
    "               'min_samples_leaf': min_samples_leaf,\n",
    "               'bootstrap': bootstrap}\n",
    "#print(param_grid)"
   ]
  },
  {
   "cell_type": "code",
   "execution_count": 46,
   "metadata": {
    "id": "GDfGubZDN5b2"
   },
   "outputs": [],
   "source": [
    "rf3 = RandomForestClassifier()"
   ]
  },
  {
   "cell_type": "code",
   "execution_count": 62,
   "metadata": {
    "id": "2kJ_7E45N-ZR"
   },
   "outputs": [],
   "source": [
    "from sklearn.model_selection import GridSearchCV\n",
    "rf_Grid = GridSearchCV(estimator = rf3, param_grid = param_grid, cv = 10, verbose=2, n_jobs = 4)"
   ]
  },
  {
   "cell_type": "code",
   "execution_count": 63,
   "metadata": {
    "colab": {
     "base_uri": "https://localhost:8080/"
    },
    "id": "k6gHkO5SOByJ",
    "outputId": "4eca84b5-ec12-4a62-98b0-b6d08a647864"
   },
   "outputs": [
    {
     "name": "stdout",
     "output_type": "stream",
     "text": [
      "Fitting 10 folds for each of 320 candidates, totalling 3200 fits\n"
     ]
    },
    {
     "data": {
      "text/plain": [
       "{'bootstrap': False,\n",
       " 'max_depth': 4,\n",
       " 'max_features': 'auto',\n",
       " 'min_samples_leaf': 1,\n",
       " 'min_samples_split': 2,\n",
       " 'n_estimators': 60}"
      ]
     },
     "execution_count": 63,
     "metadata": {},
     "output_type": "execute_result"
    }
   ],
   "source": [
    "rf_Grid.fit(x_train,y_train)\n",
    "rf_Grid.best_params_"
   ]
  },
  {
   "cell_type": "code",
   "execution_count": 64,
   "metadata": {
    "id": "xUbL5_gAPA8K"
   },
   "outputs": [],
   "source": [
    "y_pred_rf_grid3 = rf_Grid.predict(x_test)"
   ]
  },
  {
   "cell_type": "code",
   "execution_count": 65,
   "metadata": {
    "id": "d1pZXZooXQOY"
   },
   "outputs": [
    {
     "name": "stdout",
     "output_type": "stream",
     "text": [
      "Test Accuracy: 0.5181380526173041\n"
     ]
    }
   ],
   "source": [
    "#Calculate the accuracy score\n",
    "accuracy = accuracy_score(y_test, y_pred_rf_grid3)\n",
    "\n",
    "# Print the accuracy score\n",
    "print(\"Test Accuracy:\", accuracy)"
   ]
  },
  {
   "cell_type": "code",
   "execution_count": 66,
   "metadata": {
    "id": "upzgeKB1W1e9"
   },
   "outputs": [
    {
     "name": "stdout",
     "output_type": "stream",
     "text": [
      "Precision: 0.3916\n",
      "Recall: 0.5181\n",
      "F1-Score: 0.3875\n"
     ]
    },
    {
     "name": "stderr",
     "output_type": "stream",
     "text": [
      "C:\\Users\\user\\anaconda3\\lib\\site-packages\\sklearn\\metrics\\_classification.py:1318: UndefinedMetricWarning: Precision is ill-defined and being set to 0.0 in labels with no predicted samples. Use `zero_division` parameter to control this behavior.\n",
      "  _warn_prf(average, modifier, msg_start, len(result))\n"
     ]
    }
   ],
   "source": [
    "#Checking accuracies\n",
    "\n",
    "calculate_classification_metrics(y_test, y_pred_rf_grid3)"
   ]
  },
  {
   "cell_type": "markdown",
   "metadata": {},
   "source": [
    "## KNN Classifier"
   ]
  },
  {
   "cell_type": "code",
   "execution_count": 52,
   "metadata": {},
   "outputs": [
    {
     "data": {
      "text/plain": [
       "0.8092877000271224"
      ]
     },
     "execution_count": 52,
     "metadata": {},
     "output_type": "execute_result"
    }
   ],
   "source": [
    "from sklearn.neighbors import KNeighborsClassifier\n",
    "\n",
    "knn = KNeighborsClassifier(n_neighbors=10)\n",
    "\n",
    "knn.fit(x_train,y_train)\n",
    "\n",
    "KNeighborsClassifier(n_neighbors=10)\n",
    "knn.score(x_train, y_train)"
   ]
  },
  {
   "cell_type": "code",
   "execution_count": 60,
   "metadata": {},
   "outputs": [],
   "source": [
    "y_pred_knn_train = knn.predict(x_train)"
   ]
  },
  {
   "cell_type": "code",
   "execution_count": 61,
   "metadata": {},
   "outputs": [
    {
     "name": "stdout",
     "output_type": "stream",
     "text": [
      "Precision: 0.8105\n",
      "Recall: 0.8093\n",
      "F1-Score: 0.8071\n"
     ]
    }
   ],
   "source": [
    "calculate_classification_metrics(y_train, y_pred_knn_train)"
   ]
  },
  {
   "cell_type": "code",
   "execution_count": 53,
   "metadata": {},
   "outputs": [
    {
     "data": {
      "text/plain": [
       "0.737286411716843"
      ]
     },
     "execution_count": 53,
     "metadata": {},
     "output_type": "execute_result"
    }
   ],
   "source": [
    "knn.score(x_test, y_test)"
   ]
  },
  {
   "cell_type": "code",
   "execution_count": 58,
   "metadata": {},
   "outputs": [],
   "source": [
    "y_pred_knn_test = knn.predict(x_test)"
   ]
  },
  {
   "cell_type": "code",
   "execution_count": 59,
   "metadata": {},
   "outputs": [
    {
     "name": "stdout",
     "output_type": "stream",
     "text": [
      "Precision: 0.7370\n",
      "Recall: 0.7373\n",
      "F1-Score: 0.7340\n"
     ]
    }
   ],
   "source": [
    "calculate_classification_metrics(y_test, y_pred_knn_test)"
   ]
  },
  {
   "cell_type": "code",
   "execution_count": null,
   "metadata": {},
   "outputs": [],
   "source": []
  }
 ],
 "metadata": {
  "colab": {
   "provenance": []
  },
  "kernelspec": {
   "display_name": "Python 3 (ipykernel)",
   "language": "python",
   "name": "python3"
  },
  "language_info": {
   "codemirror_mode": {
    "name": "ipython",
    "version": 3
   },
   "file_extension": ".py",
   "mimetype": "text/x-python",
   "name": "python",
   "nbconvert_exporter": "python",
   "pygments_lexer": "ipython3",
   "version": "3.9.13"
  }
 },
 "nbformat": 4,
 "nbformat_minor": 1
}
